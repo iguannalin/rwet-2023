{
 "cells": [
  {
   "cell_type": "markdown",
   "id": "2db7ef0f",
   "metadata": {},
   "source": [
    "# Transformers study\n",
    "by anna lin"
   ]
  },
  {
   "cell_type": "markdown",
   "id": "b0330231",
   "metadata": {},
   "source": [
    "## \"translating\" a poem"
   ]
  },
  {
   "cell_type": "code",
   "execution_count": 1,
   "id": "2d4c3d2c",
   "metadata": {},
   "outputs": [
    {
     "name": "stdout",
     "output_type": "stream",
     "text": [
      "Collecting package metadata (current_repodata.json): done\n",
      "Solving environment: done\n",
      "\n",
      "# All requested packages already installed.\n",
      "\n"
     ]
    }
   ],
   "source": [
    "import sys\n",
    "!conda install --prefix {sys.prefix} -y -c pytorch pytorch"
   ]
  },
  {
   "cell_type": "code",
   "execution_count": 2,
   "id": "c2310afc",
   "metadata": {},
   "outputs": [
    {
     "name": "stdout",
     "output_type": "stream",
     "text": [
      "Requirement already satisfied: transformers in /Users/annaaa/opt/anaconda3/lib/python3.9/site-packages (4.27.4)\n",
      "Requirement already satisfied: pyyaml>=5.1 in /Users/annaaa/opt/anaconda3/lib/python3.9/site-packages (from transformers) (6.0)\n",
      "Requirement already satisfied: requests in /Users/annaaa/opt/anaconda3/lib/python3.9/site-packages (from transformers) (2.28.1)\n",
      "Requirement already satisfied: huggingface-hub<1.0,>=0.11.0 in /Users/annaaa/opt/anaconda3/lib/python3.9/site-packages (from transformers) (0.13.3)\n",
      "Requirement already satisfied: numpy>=1.17 in /Users/annaaa/opt/anaconda3/lib/python3.9/site-packages (from transformers) (1.21.5)\n",
      "Requirement already satisfied: tokenizers!=0.11.3,<0.14,>=0.11.1 in /Users/annaaa/opt/anaconda3/lib/python3.9/site-packages (from transformers) (0.13.2)\n",
      "Requirement already satisfied: tqdm>=4.27 in /Users/annaaa/opt/anaconda3/lib/python3.9/site-packages (from transformers) (4.64.1)\n",
      "Requirement already satisfied: filelock in /Users/annaaa/opt/anaconda3/lib/python3.9/site-packages (from transformers) (3.6.0)\n",
      "Requirement already satisfied: packaging>=20.0 in /Users/annaaa/opt/anaconda3/lib/python3.9/site-packages (from transformers) (21.3)\n",
      "Requirement already satisfied: regex!=2019.12.17 in /Users/annaaa/opt/anaconda3/lib/python3.9/site-packages (from transformers) (2022.7.9)\n",
      "Requirement already satisfied: typing-extensions>=3.7.4.3 in /Users/annaaa/opt/anaconda3/lib/python3.9/site-packages (from huggingface-hub<1.0,>=0.11.0->transformers) (4.3.0)\n",
      "Requirement already satisfied: pyparsing!=3.0.5,>=2.0.2 in /Users/annaaa/opt/anaconda3/lib/python3.9/site-packages (from packaging>=20.0->transformers) (3.0.9)\n",
      "Requirement already satisfied: urllib3<1.27,>=1.21.1 in /Users/annaaa/opt/anaconda3/lib/python3.9/site-packages (from requests->transformers) (1.26.11)\n",
      "Requirement already satisfied: idna<4,>=2.5 in /Users/annaaa/opt/anaconda3/lib/python3.9/site-packages (from requests->transformers) (3.3)\n",
      "Requirement already satisfied: certifi>=2017.4.17 in /Users/annaaa/opt/anaconda3/lib/python3.9/site-packages (from requests->transformers) (2022.9.24)\n",
      "Requirement already satisfied: charset-normalizer<3,>=2 in /Users/annaaa/opt/anaconda3/lib/python3.9/site-packages (from requests->transformers) (2.0.4)\n"
     ]
    }
   ],
   "source": [
    "import sys\n",
    "!{sys.executable} -m pip install transformers"
   ]
  },
  {
   "cell_type": "code",
   "execution_count": 4,
   "id": "83d5be32",
   "metadata": {},
   "outputs": [
    {
     "name": "stderr",
     "output_type": "stream",
     "text": [
      "Setting `pad_token_id` to `eos_token_id`:50256 for open-end generation.\n"
     ]
    },
    {
     "data": {
      "text/plain": [
       "'Two roads diverged in a yellow wood, and an over-powered motorcyclist pulled up before the woman and her 12-year-old friends left the car.'"
      ]
     },
     "execution_count": 4,
     "metadata": {},
     "output_type": "execute_result"
    }
   ],
   "source": [
    "from transformers import pipeline, AutoModelForCausalLM, AutoTokenizer\n",
    "tokenizer = AutoTokenizer.from_pretrained('distilgpt2')\n",
    "model = AutoModelForCausalLM.from_pretrained('distilgpt2')\n",
    "generator = pipeline('text-generation', model=model, tokenizer=tokenizer)\n",
    "# generator(\"Two roads diverged in a yellow wood, and\")[0]['generated_text']"
   ]
  },
  {
   "cell_type": "code",
   "execution_count": 17,
   "id": "d9fa9959",
   "metadata": {},
   "outputs": [],
   "source": [
    "prompt = \"读万卷书行万里路\"\n",
    "prompt_encoded = tokenizer([prompt], return_tensors=\"pt\")\n",
    "import torch\n",
    "result = model(**prompt_encoded)\n",
    "next_token_probs = result.logits[0,-1]"
   ]
  },
  {
   "cell_type": "code",
   "execution_count": 21,
   "id": "0f18ac88",
   "metadata": {},
   "outputs": [
    {
     "name": "stdout",
     "output_type": "stream",
     "text": [
      "读 means a character (or one) created in memory:\n",
      "万 means, �You were talking over. I have got\n",
      "卷 means the day after his birthday to give birthday at an\n",
      "书 means 'one', (p<n of [ 1\n",
      "行 means in ��m���h.� He has one\n",
      "万 means the most powerful word spoken from within that area.\"\n",
      "里 means a name or pronoun as if there will ever still\n",
      "路 means \"truck. But I could find that for\n"
     ]
    }
   ],
   "source": [
    "import random\n",
    "for i in prompt:\n",
    "    p = i + \" means\"\n",
    "    for n in range(10):\n",
    "    # encode the prompt\n",
    "        prompt_encoded = tokenizer([p], return_tensors=\"pt\")\n",
    "        # run a forward pass on the network\n",
    "        result = model(**prompt_encoded)\n",
    "        # get the probabilities for the next word\n",
    "        next_token_probs = result.logits[0,-1]\n",
    "        # sort by value, get the top 12 (you can change this number! try 1, or 1000)\n",
    "        nexts = torch.argsort(next_token_probs)[-25:]\n",
    "        # append the decoded ID to the current prompt\n",
    "        p += tokenizer.decode(random.choice(nexts))\n",
    "    print(p)"
   ]
  }
 ],
 "metadata": {
  "kernelspec": {
   "display_name": "Python 3 (ipykernel)",
   "language": "python",
   "name": "python3"
  },
  "language_info": {
   "codemirror_mode": {
    "name": "ipython",
    "version": 3
   },
   "file_extension": ".py",
   "mimetype": "text/x-python",
   "name": "python",
   "nbconvert_exporter": "python",
   "pygments_lexer": "ipython3",
   "version": "3.9.13"
  }
 },
 "nbformat": 4,
 "nbformat_minor": 5
}

{
 "cells": [
  {
   "cell_type": "code",
   "execution_count": null,
   "id": "0eff6f3a",
   "metadata": {},
   "outputs": [],
   "source": [
    "from flask import Flask\n",
    "import random\n",
    "import sched, time\n",
    "\n",
    "app = Flask(__name__)\n",
    "\n",
    "index = 0\n",
    "\n",
    "def do_something(scheduler): \n",
    "    # schedule the next call first\n",
    "    scheduler.enter(60, 1, do_something, (scheduler,))\n",
    "    print(\"Doing stuff...\")\n",
    "    hello()\n",
    "    \n",
    "my_scheduler = sched.scheduler(time.time, time.sleep)\n",
    "my_scheduler.enter(60, 1, do_something, (my_scheduler,))\n",
    "my_scheduler.run()\n",
    "\n",
    "@app.route('/hello')\n",
    "def hello():\n",
    "    return \"meow \" + index\n",
    "\n",
    "if __name__ == '__main__':\n",
    "    app.run()"
   ]
  },
  {
   "cell_type": "code",
   "execution_count": null,
   "id": "0faef3e0",
   "metadata": {},
   "outputs": [],
   "source": []
  }
 ],
 "metadata": {
  "kernelspec": {
   "display_name": "Python 3 (ipykernel)",
   "language": "python",
   "name": "python3"
  },
  "language_info": {
   "codemirror_mode": {
    "name": "ipython",
    "version": 3
   },
   "file_extension": ".py",
   "mimetype": "text/x-python",
   "name": "python",
   "nbconvert_exporter": "python",
   "pygments_lexer": "ipython3",
   "version": "3.9.13"
  }
 },
 "nbformat": 4,
 "nbformat_minor": 5
}

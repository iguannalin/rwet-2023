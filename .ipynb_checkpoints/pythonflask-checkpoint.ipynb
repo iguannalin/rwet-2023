{
 "cells": [
  {
   "cell_type": "code",
   "execution_count": null,
   "id": "0eff6f3a",
   "metadata": {},
   "outputs": [
    {
     "name": "stdout",
     "output_type": "stream",
     "text": [
      " * Serving Flask app \"__main__\" (lazy loading)\n",
      " * Environment: production\n",
      "\u001b[31m   WARNING: This is a development server. Do not use it in a production deployment.\u001b[0m\n",
      "\u001b[2m   Use a production WSGI server instead.\u001b[0m\n",
      " * Debug mode: off\n"
     ]
    },
    {
     "name": "stderr",
     "output_type": "stream",
     "text": [
      " * Running on http://127.0.0.1:5000/ (Press CTRL+C to quit)\n",
      "127.0.0.1 - - [20/Apr/2023 14:19:30] \"GET / HTTP/1.1\" 404 -\n",
      "127.0.0.1 - - [20/Apr/2023 14:19:30] \"GET /favicon.ico HTTP/1.1\" 404 -\n",
      "127.0.0.1 - - [20/Apr/2023 14:19:37] \"GET /hello HTTP/1.1\" 200 -\n",
      "127.0.0.1 - - [20/Apr/2023 14:19:41] \"GET /hello HTTP/1.1\" 200 -\n"
     ]
    }
   ],
   "source": [
    "from flask import Flask\n",
    "import random\n",
    "import sched, time\n",
    "\n",
    "app = Flask(__name__)\n",
    "\n",
    "index = 0\n",
    "\n",
    "def do_something(scheduler): \n",
    "    # schedule the next call first\n",
    "    scheduler.enter(60, 1, do_something, (scheduler,))\n",
    "    print(\"Doing stuff...\")\n",
    "    hello()\n",
    "\n",
    "@app.route('/hello')\n",
    "def hello():\n",
    "    return \"meow \" + index\n",
    "\n",
    "if __name__ == '__main__':\n",
    "    my_scheduler = sched.scheduler(time.time, time.sleep)\n",
    "    my_scheduler.enter(60, 1, do_something, (my_scheduler,))\n",
    "    my_scheduler.run()\n",
    "    app.run()"
   ]
  }
 ],
 "metadata": {
  "kernelspec": {
   "display_name": "Python 3 (ipykernel)",
   "language": "python",
   "name": "python3"
  },
  "language_info": {
   "codemirror_mode": {
    "name": "ipython",
    "version": 3
   },
   "file_extension": ".py",
   "mimetype": "text/x-python",
   "name": "python",
   "nbconvert_exporter": "python",
   "pygments_lexer": "ipython3",
   "version": "3.9.13"
  }
 },
 "nbformat": 4,
 "nbformat_minor": 5
}

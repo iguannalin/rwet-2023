{
 "cells": [
  {
   "cell_type": "markdown",
   "id": "53d44a9e",
   "metadata": {},
   "source": [
    "# Playing with transformers\n",
    "\n",
    "By [Allison Parrish](http://www.decontextualize.com/)\n",
    "\n",
    "(This is a rough draft!)\n",
    "\n",
    "[Transformers](https://huggingface.co/transformers/) is a Python library released by [Hugging Face](https://huggingface.co/) to make it easy to use pre-trained transformer language models. This notebook takes you through the basics of how to generate text with this library, and demonstrates a few simple techniques you can use to assert finer-grained control over the text generation procedure, like logit warping and fine-tuning.\n",
    "\n",
    "## Warning\n",
    "\n",
    "Before you begin, I recommend reading [On the Dangers of Stochastic Parrots: Can Language Models Be Too Big?](https://dl.acm.org/doi/10.1145/3442188.3445922) by Bender et al. The paper outlines the difficulties and potential for harm in large pre-trained language models, and suggests some techniques for training and making use of these models responsibly. For my part, I have the following recommendations:\n",
    "\n",
    "* Don't use pre-trained language models in an automated context. By \"automated context\" I mean things like web apps, Twitter bots, etc. You just can't guarantee that the output of one of these models won't be harmful. (I might make an exception to this rule if your automated service has *very* robust moderation, but even then, it's iffy.)\n",
    "* Always read through all of your language model outputs before publishing them.\n",
    "* Don't use language models to trick people.\n",
    "\n",
    "## What is a \"transformer\" though\n",
    "\n",
    "\"Transformer\" is a name applied to neural network architectures that make use of a mechanism called [\"attention\"](https://jalammar.github.io/visualizing-neural-machine-translation-mechanics-of-seq2seq-models-with-attention/) and can be trained in parallel (rather than sequentially, as is the case with other neural network architectures that are frequently used to model sequences, like recurrent neural networks). The [introduction of this architecture](https://arxiv.org/abs/1706.03762) initiated a period of tremendous growth in language model capabilities. (Examples of Transformer models include [GPT-2](https://github.com/openai/gpt-2) and [Google T5](https://ai.googleblog.com/2020/02/exploring-transfer-learning-with-t5.html).)\n",
    "\n",
    "This growth is mostly predicated on the fact that the transformer architecture makes it more practical to train language models on larger and larger datasets. As of this writing, state-of-the-art transformer models are often trained on datasets many hundreds of gigabytes in size, and consequently take a tremendous amount of energy (and money, and time) to train. In many cases, it's not practical to train a transformer model from scratch on your own that has the same capabilities. Instead, researchers and artists make use of models that other organizations have trained.\n",
    "\n",
    "## Hugging Face Transformers\n",
    "\n",
    "That's where the Hugging Face Transformers library comes in. It's an easy interface for downloading pre-trained transformer models and making use of them with a consistent API. (For example, we can use the same code to generate text with GPT-2 and [XLNet](https://huggingface.co/transformers/model_doc/xlnet.html)). To install Transformers, you'll first need to install [PyTorch](https://pytorch.org/). If you're running this notebook with Anaconda, you can just run the code in the following cell:"
   ]
  },
  {
   "cell_type": "code",
   "execution_count": 1,
   "id": "2d6c019c",
   "metadata": {
    "scrolled": true
   },
   "outputs": [
    {
     "name": "stdout",
     "output_type": "stream",
     "text": [
      "Retrieving notices: ...working... done\n",
      "Collecting package metadata (current_repodata.json): done\n",
      "Solving environment: done\n",
      "\n",
      "# All requested packages already installed.\n",
      "\n"
     ]
    }
   ],
   "source": [
    "import sys\n",
    "!conda install --prefix {sys.prefix} -y -c pytorch pytorch"
   ]
  },
  {
   "cell_type": "markdown",
   "id": "51857ed5",
   "metadata": {},
   "source": [
    "(Note: You can also use Transformers with Tensorflow, but in practice I've found that PyTorch support in Transformers is better.)\n",
    "\n",
    "Now you can install Transformers by running the following cell:"
   ]
  },
  {
   "cell_type": "code",
   "execution_count": 2,
   "id": "b5b3ecda",
   "metadata": {},
   "outputs": [
    {
     "name": "stdout",
     "output_type": "stream",
     "text": [
      "Requirement already satisfied: transformers in /Users/annaaa/opt/anaconda3/lib/python3.9/site-packages (4.27.4)\n",
      "Requirement already satisfied: pyyaml>=5.1 in /Users/annaaa/opt/anaconda3/lib/python3.9/site-packages (from transformers) (6.0)\n",
      "Requirement already satisfied: regex!=2019.12.17 in /Users/annaaa/opt/anaconda3/lib/python3.9/site-packages (from transformers) (2022.7.9)\n",
      "Requirement already satisfied: numpy>=1.17 in /Users/annaaa/opt/anaconda3/lib/python3.9/site-packages (from transformers) (1.21.5)\n",
      "Requirement already satisfied: tqdm>=4.27 in /Users/annaaa/opt/anaconda3/lib/python3.9/site-packages (from transformers) (4.64.1)\n",
      "Requirement already satisfied: huggingface-hub<1.0,>=0.11.0 in /Users/annaaa/opt/anaconda3/lib/python3.9/site-packages (from transformers) (0.13.3)\n",
      "Requirement already satisfied: packaging>=20.0 in /Users/annaaa/opt/anaconda3/lib/python3.9/site-packages (from transformers) (21.3)\n",
      "Requirement already satisfied: tokenizers!=0.11.3,<0.14,>=0.11.1 in /Users/annaaa/opt/anaconda3/lib/python3.9/site-packages (from transformers) (0.13.2)\n",
      "Requirement already satisfied: filelock in /Users/annaaa/opt/anaconda3/lib/python3.9/site-packages (from transformers) (3.6.0)\n",
      "Requirement already satisfied: requests in /Users/annaaa/opt/anaconda3/lib/python3.9/site-packages (from transformers) (2.28.1)\n",
      "Requirement already satisfied: typing-extensions>=3.7.4.3 in /Users/annaaa/opt/anaconda3/lib/python3.9/site-packages (from huggingface-hub<1.0,>=0.11.0->transformers) (4.3.0)\n",
      "Requirement already satisfied: pyparsing!=3.0.5,>=2.0.2 in /Users/annaaa/opt/anaconda3/lib/python3.9/site-packages (from packaging>=20.0->transformers) (3.0.9)\n",
      "Requirement already satisfied: certifi>=2017.4.17 in /Users/annaaa/opt/anaconda3/lib/python3.9/site-packages (from requests->transformers) (2022.9.24)\n",
      "Requirement already satisfied: charset-normalizer<3,>=2 in /Users/annaaa/opt/anaconda3/lib/python3.9/site-packages (from requests->transformers) (2.0.4)\n",
      "Requirement already satisfied: urllib3<1.27,>=1.21.1 in /Users/annaaa/opt/anaconda3/lib/python3.9/site-packages (from requests->transformers) (1.26.11)\n",
      "Requirement already satisfied: idna<4,>=2.5 in /Users/annaaa/opt/anaconda3/lib/python3.9/site-packages (from requests->transformers) (3.3)\n"
     ]
    }
   ],
   "source": [
    "import sys\n",
    "!{sys.executable} -m pip install transformers"
   ]
  },
  {
   "cell_type": "markdown",
   "id": "d779a381",
   "metadata": {},
   "source": [
    "## Quick start: load a model and generate text"
   ]
  },
  {
   "cell_type": "markdown",
   "id": "ea69e8fd",
   "metadata": {},
   "source": [
    "I'm going to show you how to load a pre-trained model from the [Hugging Face Models directory](https://huggingface.co/models). First, you need to import the relevant parts of the Transformers library. I'm using the `Auto` classes, which automatically load the correct code based on the model that you choose. The `AutoModelForCausalLM` (that's \"causal\" not \"casual\") is the class you use for text generation tasks (where you want to generate the next word in a sequence)."
   ]
  },
  {
   "cell_type": "code",
   "execution_count": 3,
   "id": "c327cc58",
   "metadata": {},
   "outputs": [],
   "source": [
    "from transformers import pipeline, AutoModelForCausalLM, AutoTokenizer"
   ]
  },
  {
   "cell_type": "markdown",
   "id": "be708150",
   "metadata": {},
   "source": [
    "In this notebook, I'm going to use [distilgpt2](https://huggingface.co/distilgpt2), a \"distilled\" version of OpenAI's GPT-2 model. The primary benefit of this model is that it is small and fast—it generates text in a speedy fashion even on my old 2013 MacBook Air. You need to load both the model and its associated tokenizer. (We'll talk about the tokenizer in more detail below.) To load, use the `.from_pretrained()` method of the appropriate `Auto` class, like so:"
   ]
  },
  {
   "cell_type": "code",
   "execution_count": 4,
   "id": "8cd686cf",
   "metadata": {},
   "outputs": [],
   "source": [
    "tokenizer = AutoTokenizer.from_pretrained('distilgpt2')\n",
    "model = AutoModelForCausalLM.from_pretrained('distilgpt2')"
   ]
  },
  {
   "cell_type": "markdown",
   "id": "91bd8087",
   "metadata": {},
   "source": [
    "This might take a little while! The Transformers library downloads the model when you call the `.from_pretrained()` method, and some of the models are very large. (DistilGPT2, at 300MB, is on the small side.) The library will cache these files for later, so you won't need to download them again on the same machine.\n",
    "\n",
    "Once you have the tokenizer and the model, you can create a Transformers *pipeline*. A pipeline groups together and abstracts away the intermediate steps of a machine learning procedure. The Transformers library has [many types of pipeline](https://huggingface.co/transformers/main_classes/pipelines.html), but we're going to create a text generation pipeline, using the model and tokenizer that we just loaded. Here's what it looks like:"
   ]
  },
  {
   "cell_type": "code",
   "execution_count": 5,
   "id": "68e0808e",
   "metadata": {},
   "outputs": [],
   "source": [
    "generator = pipeline('text-generation', model=model, tokenizer=tokenizer)"
   ]
  },
  {
   "cell_type": "markdown",
   "id": "d838707a",
   "metadata": {},
   "source": [
    "Having created this pipeline, we can use it to generate text by calling the pipeline object as though it were a function. The parameter that you pass in is the \"prompt\"—i.e., the text whose completion you want to predict."
   ]
  },
  {
   "cell_type": "code",
   "execution_count": 6,
   "id": "ead3d4a1",
   "metadata": {},
   "outputs": [
    {
     "name": "stderr",
     "output_type": "stream",
     "text": [
      "/Users/annaaa/opt/anaconda3/lib/python3.9/site-packages/transformers/generation/utils.py:1201: UserWarning: You have modified the pretrained model configuration to control generation. This is a deprecated strategy to control generation and will be removed soon, in a future version. Please use a generation configuration file (see https://huggingface.co/docs/transformers/main_classes/text_generation)\n",
      "  warnings.warn(\n",
      "Setting `pad_token_id` to `eos_token_id`:50256 for open-end generation.\n",
      "/Users/annaaa/opt/anaconda3/lib/python3.9/site-packages/transformers/generation/utils.py:1288: UserWarning: Using `max_length`'s default (50) to control the generation length. This behaviour is deprecated and will be removed from the config in v5 of Transformers -- we recommend using `max_new_tokens` to control the maximum length of the generation.\n",
      "  warnings.warn(\n"
     ]
    },
    {
     "data": {
      "text/plain": [
       "[{'generated_text': 'Two roads diverged in a yellow wood, and they were not stopped at the intersection of Interstate 70 and South Main Street in Park Park Ridge.\\n\\n\\n\\n“It\\u202cs not enough that the traffic is inoperable,�'}]"
      ]
     },
     "execution_count": 6,
     "metadata": {},
     "output_type": "execute_result"
    }
   ],
   "source": [
    "generator(\"Two roads diverged in a yellow wood, and\")"
   ]
  },
  {
   "cell_type": "markdown",
   "id": "2852f414",
   "metadata": {},
   "source": [
    "This call returns a list of dictionaries, where each dictionary has a key `generated_text` whose value is the text that was generated. If you just want the generated string, you can do this:"
   ]
  },
  {
   "cell_type": "code",
   "execution_count": 7,
   "id": "16f15e4a",
   "metadata": {},
   "outputs": [
    {
     "name": "stderr",
     "output_type": "stream",
     "text": [
      "Setting `pad_token_id` to `eos_token_id`:50256 for open-end generation.\n"
     ]
    },
    {
     "data": {
      "text/plain": [
       "\"Two roads diverged in a yellow wood, and the red transformer was shut off.\\n\\n\\nThe incident is being investigated by the city's Environment and Parks Agency.\\nRead or Share this story: http://usat.ly/2w6\""
      ]
     },
     "execution_count": 7,
     "metadata": {},
     "output_type": "execute_result"
    }
   ],
   "source": [
    "generator(\"Two roads diverged in a yellow wood, and\")[0]['generated_text']"
   ]
  },
  {
   "cell_type": "markdown",
   "id": "2cd63531",
   "metadata": {},
   "source": [
    "There are other parameters that you can pass to the text generation pipeline—basically, you can pass in any of the parameters that you could pass to a causal language model's [.generate() method](https://huggingface.co/transformers/main_classes/model.html#transformers.generation_tf_utils.TFGenerationMixin.generate). We'll go over those parameters in a second, but before we do so, I think it'll be helpful to take a step back and examine what exactly is happening in the generation process."
   ]
  },
  {
   "cell_type": "markdown",
   "id": "0dade853",
   "metadata": {},
   "source": [
    "## Tokenization\n",
    "\n",
    "Machine learning models don't work on text directly; instead, they operate on numbers that correspond to parts of a text. Breaking a text up into enumerable parts is called *tokenization*. In this class, we've already explored several easy and common forms of tokenization, e.g., breaking a text up into characters, or breaking a text up into words. Most machine learning models now use a form of *sub-word* tokenization, in which a text is broken up into units that don't neatly correspond to either individual characters or whole words. The tokenization procedure itself is derived from statistical properties of the corpus—so tokenizers are, in a sense, \"trained\" in the same way that a machine learning model is. (This is why you have to load the tokenizer, the same way you load a model.)\n",
    "\n",
    "A tokenizer has a *vocabulary*, which is the set of all possible unique tokens that the tokenizer recognizes. You can examine the vocabulary by calling the tokenizer's `.get_vocab()` method:"
   ]
  },
  {
   "cell_type": "code",
   "execution_count": 8,
   "id": "97b04c3d",
   "metadata": {},
   "outputs": [],
   "source": [
    "vocab = tokenizer.get_vocab()"
   ]
  },
  {
   "cell_type": "markdown",
   "id": "25e1b432",
   "metadata": {},
   "source": [
    "Use `len()` to see how many items are in the vocabulary:"
   ]
  },
  {
   "cell_type": "code",
   "execution_count": 9,
   "id": "91c47f0b",
   "metadata": {},
   "outputs": [
    {
     "data": {
      "text/plain": [
       "50257"
      ]
     },
     "execution_count": 9,
     "metadata": {},
     "output_type": "execute_result"
    }
   ],
   "source": [
    "len(vocab)"
   ]
  },
  {
   "cell_type": "markdown",
   "id": "379643e5",
   "metadata": {},
   "source": [
    "The vocabulary is returned as a dictionary that maps tokens to their IDs. Let's just take a peek into what that looks like. I'm going to randomly sample a few items from the dictionary, like so:"
   ]
  },
  {
   "cell_type": "code",
   "execution_count": 10,
   "id": "05ca6ef7",
   "metadata": {},
   "outputs": [
    {
     "name": "stderr",
     "output_type": "stream",
     "text": [
      "/var/folders/92/ky559sqj6k57cprgfnv1vcvw0000gn/T/ipykernel_8317/2550257613.py:2: DeprecationWarning: Sampling from a set deprecated\n",
      "since Python 3.9 and will be removed in a subsequent version.\n",
      "  random.sample(vocab.items(), 10)\n"
     ]
    },
    {
     "data": {
      "text/plain": [
       "[('Ġpitted', 46852),\n",
       " ('Ġconqu', 20277),\n",
       " ('ĠReuters', 8428),\n",
       " ('Ġcarved', 23470),\n",
       " ('Ġsorted', 23243),\n",
       " ('Ġvalues', 3815),\n",
       " ('ĠLibre', 44384),\n",
       " ('ĠKend', 19274),\n",
       " ('utor', 38409),\n",
       " ('Ġcriticized', 12318)]"
      ]
     },
     "execution_count": 10,
     "metadata": {},
     "output_type": "execute_result"
    }
   ],
   "source": [
    "import random\n",
    "random.sample(vocab.items(), 10)"
   ]
  },
  {
   "cell_type": "markdown",
   "id": "08fd6338",
   "metadata": {},
   "source": [
    "The results look pretty weird, and there a bunch of things to explain. First off, let's discuss the mysterious `Ġ` character. Subword tokenizers generally don't start off with information about where word boundaries occur; instead, they \"learn\" word boundaries as part of the process of \"training\" the tokenizer. The `Ġ` character is a special character that represents a space. Second, we can see that in many cases, the subword tokenizer does actually end up with tokens in its vocabulary that represent entire words. However, in other cases, we end up with what look like word *parts*. This is by design! Because some tokens represent word parts, the tokenizer can potentially encode *any* word—even words that were not present in the original corpus—by tokenizing that word as a sequence of parts.\n",
    "\n",
    "To demonstrate, let's actually encode a string with the tokenizer using its `.encode()` method. Just pass in a string, and you'll get back a list of IDs:"
   ]
  },
  {
   "cell_type": "code",
   "execution_count": 11,
   "id": "c5812cc0",
   "metadata": {},
   "outputs": [
    {
     "data": {
      "text/plain": [
       "[3856,\n",
       " 2946,\n",
       " 0,\n",
       " 1052,\n",
       " 435,\n",
       " 397,\n",
       " 1603,\n",
       " 281,\n",
       " 368,\n",
       " 505,\n",
       " 13,\n",
       " 1168,\n",
       " 3019,\n",
       " 89,\n",
       " 499,\n",
       " 0]"
      ]
     },
     "execution_count": 11,
     "metadata": {},
     "output_type": "execute_result"
    }
   ],
   "source": [
    "src = \"Behold! An alabaster anemone. Zzzzap!\"\n",
    "tokenizer.encode(src)"
   ]
  },
  {
   "cell_type": "markdown",
   "id": "321708f1",
   "metadata": {},
   "source": [
    "The tokenizer encodes this string of four words into sixteen tokens. You can find the token corresponding to the ID using the tokenizer's `.decode()` method:"
   ]
  },
  {
   "cell_type": "code",
   "execution_count": 12,
   "id": "cd960280",
   "metadata": {},
   "outputs": [
    {
     "data": {
      "text/plain": [
       "'aster'"
      ]
     },
     "execution_count": 12,
     "metadata": {},
     "output_type": "execute_result"
    }
   ],
   "source": [
    "tokenizer.decode(1603)"
   ]
  },
  {
   "cell_type": "markdown",
   "id": "89a1eee3",
   "metadata": {},
   "source": [
    "With this, we can see how the tokenizer broke up the original string into units:"
   ]
  },
  {
   "cell_type": "code",
   "execution_count": 13,
   "id": "98903ac0",
   "metadata": {},
   "outputs": [
    {
     "name": "stdout",
     "output_type": "stream",
     "text": [
      "3856 → 'Be'\n",
      "2946 → 'hold'\n",
      "0 → '!'\n",
      "1052 → ' An'\n",
      "435 → ' al'\n",
      "397 → 'ab'\n",
      "1603 → 'aster'\n",
      "281 → ' an'\n",
      "368 → 'em'\n",
      "505 → 'one'\n",
      "13 → '.'\n",
      "1168 → ' Z'\n",
      "3019 → 'zz'\n",
      "89 → 'z'\n",
      "499 → 'ap'\n",
      "0 → '!'\n"
     ]
    }
   ],
   "source": [
    "for token_id in tokenizer.encode(src):\n",
    "    print(token_id, \"→\", \"'\" + tokenizer.decode(token_id) + \"'\")"
   ]
  },
  {
   "cell_type": "markdown",
   "id": "8db8217a",
   "metadata": {},
   "source": [
    "(I included quotation marks in this output to emphasize the fact that the text of the token includes whitespace.)\n",
    "\n",
    "You can decode an entire list of IDs using the `.decode()` function as well:"
   ]
  },
  {
   "cell_type": "code",
   "execution_count": 14,
   "id": "6f994593",
   "metadata": {},
   "outputs": [
    {
     "data": {
      "text/plain": [
       "'Behold! An alabaster anemone. Zzzzap!'"
      ]
     },
     "execution_count": 14,
     "metadata": {},
     "output_type": "execute_result"
    }
   ],
   "source": [
    "token_ids = tokenizer.encode(src)\n",
    "tokenizer.decode(token_ids)"
   ]
  },
  {
   "cell_type": "markdown",
   "id": "618ffe34",
   "metadata": {},
   "source": [
    "For fun, get the tokenizer to decode a list of random token IDs:"
   ]
  },
  {
   "cell_type": "code",
   "execution_count": 15,
   "id": "35384952",
   "metadata": {},
   "outputs": [
    {
     "data": {
      "text/plain": [
       "' seizures exposed�Surv RL vitro Intent fasting Wed ActionORK DD'"
      ]
     },
     "execution_count": 15,
     "metadata": {},
     "output_type": "execute_result"
    }
   ],
   "source": [
    "tokenizer.decode(random.sample(list(vocab.values()), 12))"
   ]
  },
  {
   "cell_type": "markdown",
   "id": "338d7e58",
   "metadata": {},
   "source": [
    "Another way to tokenize a text is to call the tokenizer as though it's a function, passing in a list of strings as an argument:"
   ]
  },
  {
   "cell_type": "code",
   "execution_count": 16,
   "id": "adaec157",
   "metadata": {},
   "outputs": [
    {
     "data": {
      "text/plain": [
       "{'input_ids': tensor([[5661,  318,  257, 1332],\n",
       "        [5661,  318, 1194, 1332]]), 'attention_mask': tensor([[1, 1, 1, 1],\n",
       "        [1, 1, 1, 1]])}"
      ]
     },
     "execution_count": 16,
     "metadata": {},
     "output_type": "execute_result"
    }
   ],
   "source": [
    "tokenizer([\"this is a test\", \"this is another test\"], return_tensors=\"pt\")"
   ]
  },
  {
   "cell_type": "markdown",
   "id": "c973a65f",
   "metadata": {},
   "source": [
    "The value returned here is a dictionary in the format that the model is expecting, if you want to run the model \"by hand\" instead of using a pipeline, which is what we're going to do below. The `return_tensors` parameter directs the tokenizer to return the results as a PyTorch tensor instead of a Python list, which is also a requirement for passing the values directly to the model."
   ]
  },
  {
   "cell_type": "markdown",
   "id": "1c78ce45",
   "metadata": {},
   "source": [
    "## Generation in more detail (advanced, but interesting)\n",
    "\n",
    "So what's actually happening when you ask the model to generate text is this: you encode the prompt as a sequence of IDs using the tokenizer, and then the model assigns a probability to every token in the tokenizer's vocabulary, based on which tokens it thinks are most likely to come next. Here's what it looks like to run that process \"by hand,\" so to speak. First, create the prompt:"
   ]
  },
  {
   "cell_type": "code",
   "execution_count": 17,
   "id": "f3c65459",
   "metadata": {},
   "outputs": [],
   "source": [
    "prompt = \"Two roads diverged in a yellow wood, and\""
   ]
  },
  {
   "cell_type": "markdown",
   "id": "1eed01b9",
   "metadata": {},
   "source": [
    "Then encode the prompt as a sequence of token IDs:"
   ]
  },
  {
   "cell_type": "code",
   "execution_count": 18,
   "id": "3de8d01d",
   "metadata": {},
   "outputs": [],
   "source": [
    "prompt_encoded = tokenizer([prompt], return_tensors=\"pt\")"
   ]
  },
  {
   "cell_type": "code",
   "execution_count": 19,
   "id": "35b6f910",
   "metadata": {
    "scrolled": true
   },
   "outputs": [
    {
     "data": {
      "text/plain": [
       "{'input_ids': tensor([[ 7571,  9725, 12312,  2004,   287,   257,  7872,  4898,    11,   290]]), 'attention_mask': tensor([[1, 1, 1, 1, 1, 1, 1, 1, 1, 1]])}"
      ]
     },
     "execution_count": 19,
     "metadata": {},
     "output_type": "execute_result"
    }
   ],
   "source": [
    "prompt_encoded"
   ]
  },
  {
   "cell_type": "markdown",
   "id": "17d893e3",
   "metadata": {},
   "source": [
    "Then we call the model as though it were a function, passing in the key/value pairs that the tokenizer returned as parameters (using [Python's `**` operator](https://docs.python.org/3/tutorial/controlflow.html#unpacking-argument-lists)):"
   ]
  },
  {
   "cell_type": "code",
   "execution_count": 60,
   "id": "7f145c1f",
   "metadata": {},
   "outputs": [],
   "source": [
    "result = model(**prompt_encoded)"
   ]
  },
  {
   "cell_type": "markdown",
   "id": "d2e13385",
   "metadata": {},
   "source": [
    "The value returned from calling the model is an object with various attributes that we could examine. I'm most interested in `.logits`, which is a PyTorch tensor that contains information about the probability that the model assigned to each vocabulary item. (\"Tensor\" btw is just a fancy word for \"array with a bunch of dimensions.\") The prediction for the next token can be found in the very last row of this tensor:"
   ]
  },
  {
   "cell_type": "code",
   "execution_count": 61,
   "id": "67979471",
   "metadata": {},
   "outputs": [
    {
     "data": {
      "text/plain": [
       "tensor([-75.0658, -73.7585, -76.3894,  ..., -75.8365, -73.6258, -73.6459],\n",
       "       grad_fn=<SelectBackward0>)"
      ]
     },
     "execution_count": 61,
     "metadata": {},
     "output_type": "execute_result"
    }
   ],
   "source": [
    "next_token_probs = result.logits[0,-1]\n",
    "next_token_probs"
   ]
  },
  {
   "cell_type": "markdown",
   "id": "56d2cfd7",
   "metadata": {},
   "source": [
    "The scores are shown in \"raw\" form, meaning that they don't have the kinds of values that we would normally associate with a probability distribution (i.e., multiple options all adding up to one). But we can still compare them in this state. Higher numbers mean higher probability.\n",
    "\n",
    "This tensor has a shape that corresponds to the number of vocabulary items:"
   ]
  },
  {
   "cell_type": "code",
   "execution_count": 63,
   "id": "7c7770a9",
   "metadata": {},
   "outputs": [
    {
     "data": {
      "text/plain": [
       "torch.Size([50257])"
      ]
     },
     "execution_count": 63,
     "metadata": {},
     "output_type": "execute_result"
    }
   ],
   "source": [
    "next_token_probs.shape"
   ]
  },
  {
   "cell_type": "markdown",
   "id": "20efcde3",
   "metadata": {},
   "source": [
    "And we can actually inquire about the probability of particular tokens by looking them up. The code in the following cells uses the tokenizer's `.encode()` method to convert a token to its ID, then looks up the ID by index in the array with the predictions. (The `.item()` call converts the resulting PyTorch tensor to a native Python value, which just makes the result a bit easier to look at.)"
   ]
  },
  {
   "cell_type": "code",
   "execution_count": 64,
   "id": "a54d3d07",
   "metadata": {},
   "outputs": [
    {
     "data": {
      "text/plain": [
       "-63.11756134033203"
      ]
     },
     "execution_count": 64,
     "metadata": {},
     "output_type": "execute_result"
    }
   ],
   "source": [
    "next_token_probs[tokenizer.encode(' the')].item()"
   ]
  },
  {
   "cell_type": "code",
   "execution_count": 65,
   "id": "258b656e",
   "metadata": {},
   "outputs": [
    {
     "data": {
      "text/plain": [
       "-73.56358337402344"
      ]
     },
     "execution_count": 65,
     "metadata": {},
     "output_type": "execute_result"
    }
   ],
   "source": [
    "next_token_probs[tokenizer.encode(' x')].item()"
   ]
  },
  {
   "cell_type": "code",
   "execution_count": 66,
   "id": "35266957",
   "metadata": {},
   "outputs": [
    {
     "data": {
      "text/plain": [
       "-66.07610321044922"
      ]
     },
     "execution_count": 66,
     "metadata": {},
     "output_type": "execute_result"
    }
   ],
   "source": [
    "next_token_probs[tokenizer.encode(' an')].item()"
   ]
  },
  {
   "cell_type": "markdown",
   "id": "ce625991",
   "metadata": {},
   "source": [
    "We can see that the tokens ` the` and ` an` have fairly high probability, while the token ` x` has low probability.  Interesting!\n",
    "\n",
    "### Generating text, the home-grown way\n",
    "\n",
    "Using the PyTorch library, we can get a list of the most likely tokens to come next. (This has some dark magic in it if you're not familiar with PyTorch—or another array processing library like NumPy—so... just trust me for a sec.)"
   ]
  },
  {
   "cell_type": "code",
   "execution_count": 26,
   "id": "c0cff0a4",
   "metadata": {},
   "outputs": [
    {
     "name": "stdout",
     "output_type": "stream",
     "text": [
      "' the'\n",
      "' a'\n",
      "' two'\n",
      "' one'\n",
      "' it'\n",
      "' were'\n",
      "' some'\n",
      "' there'\n",
      "' they'\n",
      "' in'\n",
      "' then'\n",
      "' another'\n"
     ]
    }
   ],
   "source": [
    "import torch\n",
    "for idx in reversed(torch.argsort(next_token_probs)[-12:]):\n",
    "    print(\"'\" + tokenizer.decode(idx) + \"'\")"
   ]
  },
  {
   "cell_type": "markdown",
   "id": "97c8cc46",
   "metadata": {},
   "source": [
    "(Again, I've added in the quotation marks so you can clearly see that these tokens have whitespace at the beginning.) These are the top twelve tokens to come next in the sequence, as predicted by the model. One way to *generate* a text would be to take one of these tokens—maybe the top-scoring token, maybe one of the top *n* picked at random, append it to our original list of tokens, ask the model to make a prediction on *that* list of tokens, and repeat. The loop would look something like this:"
   ]
  },
  {
   "cell_type": "code",
   "execution_count": 93,
   "id": "165247bd",
   "metadata": {},
   "outputs": [
    {
     "name": "stdout",
     "output_type": "stream",
     "text": [
      "我 means –\n",
      "我 means – or\n",
      "我 means – or more\n",
      "我 means – or more difficult\n",
      "我 means – or more difficult that\n",
      "我 means – or more difficult that only\n",
      "我 means – or more difficult that only four\n",
      "我 means – or more difficult that only four types\n",
      "我 means – or more difficult that only four types become\n",
      "我 means – or more difficult that only four types become relevant\n"
     ]
    }
   ],
   "source": [
    "prompt = \"我 means\"\n",
    "for i in range(10):\n",
    "    # encode the prompt\n",
    "    prompt_encoded = tokenizer([prompt], return_tensors=\"pt\")\n",
    "    # run a forward pass on the network\n",
    "    result = model(**prompt_encoded)\n",
    "    # get the probabilities for the next word\n",
    "    next_token_probs = result.logits[0,-1]\n",
    "    # sort by value, get the top 12 (you can change this number! try 1, or 1000)\n",
    "    nexts = torch.argsort(next_token_probs)[-100:]\n",
    "    # append the decoded ID to the current prompt\n",
    "    prompt += tokenizer.decode(random.choice(nexts))\n",
    "    print(prompt)"
   ]
  },
  {
   "cell_type": "markdown",
   "id": "73fb8fb9",
   "metadata": {},
   "source": [
    "### The `.generate()` method\n",
    "\n",
    "Our home-grown solution above does the job, but it's very rudimentary. Because generating text is such a common use-case, the Transformers library provides a `.generate()` method that is quite fast and also has a bunch of bells and whistles that we can exploit to add expressiveness to our use of the language model. Under the hood, though, the `.generate()` method is essentially doing exactly what we did above—iteratively constructing a string based on predicted tokens from the model. Use the `.generate()` method like this:"
   ]
  },
  {
   "cell_type": "code",
   "execution_count": 28,
   "id": "40aea2d3",
   "metadata": {},
   "outputs": [
    {
     "name": "stderr",
     "output_type": "stream",
     "text": [
      "Setting `pad_token_id` to `eos_token_id`:50256 for open-end generation.\n"
     ]
    },
    {
     "data": {
      "text/plain": [
       "'Two roads diverged in a yellow wood, and the two buses collided with one another. Three lanes of traffic were at the same time, while one bridge was in a red light.A driver who was stopped by Aylie Kuznetsov'"
      ]
     },
     "execution_count": 28,
     "metadata": {},
     "output_type": "execute_result"
    }
   ],
   "source": [
    "prompt = \"Two roads diverged in a yellow wood, and\"\n",
    "prompt_encoded = tokenizer(prompt, return_tensors=\"pt\") # the \"return_tensors\" thing is important!\n",
    "result = model.generate(**prompt_encoded)[0]\n",
    "tokenizer.decode(result, skip_special_tokens=True)"
   ]
  },
  {
   "cell_type": "markdown",
   "id": "e92aef49",
   "metadata": {},
   "source": [
    "For a more detailed overview of all of the ways you can use `.generate()`, see [How to generate](https://huggingface.co/blog/how-to-generate) on the Hugging Face blog. One argument of `.generate()` that is useful right off the bat is `max_length`, which continues the generation process for the number of tokens you specify:"
   ]
  },
  {
   "cell_type": "code",
   "execution_count": 29,
   "id": "144cc102",
   "metadata": {},
   "outputs": [
    {
     "name": "stderr",
     "output_type": "stream",
     "text": [
      "Setting `pad_token_id` to `eos_token_id`:50256 for open-end generation.\n"
     ]
    },
    {
     "data": {
      "text/plain": [
       "\"Two roads diverged in a yellow wood, and a green patch that had been cleared of weeds, it's not clear what caused the damage.\\n\\n\\n\\nThe fire, spread from the fire, was set between Covington Road and Middletown road. The first car hit in the block, which was about 10 to 15 feet (15 to 18 foot).\\nThe second car hit the dirt median between Covington Road and West Hutton Road in July with a red impact.\\nThe second car hit a bridge just along the south side of Covington Road.\\nNo one was injured in the collision.\\n© 2015 The Guardian\""
      ]
     },
     "execution_count": 29,
     "metadata": {},
     "output_type": "execute_result"
    }
   ],
   "source": [
    "prompt = \"Two roads diverged in a yellow wood, and\"\n",
    "prompt_encoded = tokenizer(prompt, return_tensors=\"pt\")\n",
    "result = model.generate(**prompt_encoded, max_length=250)[0]\n",
    "tokenizer.decode(result, skip_special_tokens=True)"
   ]
  },
  {
   "cell_type": "markdown",
   "id": "ea940807",
   "metadata": {},
   "source": [
    "### Back to the pipeline\n",
    "\n",
    "The process of encoding the prompt and decoding the results is pretty tedious. That's why the \"pipeline\" was invented. The `text-generation` pipeline takes care of encoding and decoding for you. Create a pipeline by calling `pipeline` with `text-generation` as the first parameter, and then the model and tokenizer that you want to use:"
   ]
  },
  {
   "cell_type": "code",
   "execution_count": 30,
   "id": "5b73ec86",
   "metadata": {},
   "outputs": [],
   "source": [
    "generator = pipeline('text-generation', model=model, tokenizer=tokenizer)"
   ]
  },
  {
   "cell_type": "markdown",
   "id": "bbb3539f",
   "metadata": {},
   "source": [
    "And then you can generate text with the pipeline. The first argument is the prompt; any remaining parameters will be forwarded to the model's `.generate()` method."
   ]
  },
  {
   "cell_type": "code",
   "execution_count": 72,
   "id": "f7c8e6a2",
   "metadata": {
    "scrolled": true
   },
   "outputs": [
    {
     "name": "stderr",
     "output_type": "stream",
     "text": [
      "Setting `pad_token_id` to `eos_token_id`:50256 for open-end generation.\n"
     ]
    },
    {
     "data": {
      "text/plain": [
       "[{'generated_text': 'Two roads diverged in a yellow light early Friday and into a southbound lane before the lane was closed.\\n\\n\\n\\n\\n\\n\\n\\n\\n\\n\\n\\n\\n\\n\\n\\n\\n\\n\\n\\n\\n\\n\\n\\n\\n\\n\\n\\n\\n\\n\\n\\n\\n\\n\\n\\n\\n\\n\\n\\n\\n\\n\\n\\n\\n\\n\\n\\n\\n\\n\\n\\n\\n\\n\\n\\n\\n\\n\\n\\n\\n\\n\\n\\n\\n\\n\\n\\n\\n\\n\\n\\n\\n\\n\\n\\n\\n\\n'}]"
      ]
     },
     "execution_count": 72,
     "metadata": {},
     "output_type": "execute_result"
    }
   ],
   "source": [
    "generator(\"Two roads diverged in a yellow\",\n",
    "          max_length=100)"
   ]
  },
  {
   "cell_type": "markdown",
   "id": "e5f4cc74",
   "metadata": {},
   "source": [
    "As a reminder, to get the actual generated text, use indexing to get the value of the dictionary in the list returned from the pipeline:"
   ]
  },
  {
   "cell_type": "code",
   "execution_count": 74,
   "id": "93ef297e",
   "metadata": {},
   "outputs": [
    {
     "name": "stderr",
     "output_type": "stream",
     "text": [
      "Setting `pad_token_id` to `eos_token_id`:50256 for open-end generation.\n"
     ]
    },
    {
     "data": {
      "text/plain": [
       "[{'generated_text': 'Two roads diverged in a yellow pickup truck in the city of Elisburg, Maryland after a woman on a bike broke into their vehicle and took off. Officers later found a black Dodge Z06 motorcycle on the Interstate 285 in Elisburg. A female, identified as a x-rated 29-year-old woman, was taken to Harbor Regional Medical Center with non-life-threatening injuries.\\n\\n\\n\\n\\n\\n\\n\\n\\n\\n\\n\\n\\n\\n\\n\\n\\n\\n\\n'}]"
      ]
     },
     "execution_count": 74,
     "metadata": {},
     "output_type": "execute_result"
    }
   ],
   "source": [
    "generator(\"Two roads diverged in a yellow\",\n",
    "          max_length=100)"
   ]
  },
  {
   "cell_type": "markdown",
   "id": "6e84bb46",
   "metadata": {},
   "source": [
    "## Controlling the model\n",
    "\n",
    "By default, the `distilgpt2` model samples from the possible next tokens, weighted by the probability assigned to that token. This strategy leads to text that shows a good deal of variety, but there are strategies that we can use and parameters that we can tweak to exert a little more control over the model's output. In this section, I show a few of these strategies.\n",
    "\n",
    "### The magic of the prompt\n",
    "\n",
    "Transformer models are often able to follow up on cues you give about the desired content and style of the text in the prompt itself. The smaller transformer models aren't especially good at this, but it's still worth playing around with. For example, to get `distilgpt2` to generate something that looks like a movie review:"
   ]
  },
  {
   "cell_type": "code",
   "execution_count": 33,
   "id": "9f51c882",
   "metadata": {},
   "outputs": [
    {
     "name": "stderr",
     "output_type": "stream",
     "text": [
      "Setting `pad_token_id` to `eos_token_id`:50256 for open-end generation.\n"
     ]
    },
    {
     "name": "stdout",
     "output_type": "stream",
     "text": [
      "My review of The Road Not Taken, the Movie: One in a Lonely Year with a Death About My Best Friend, is here for you.\n",
      "So in order to give us our verdict, I‬‬ve shared a selection of a few items in the list of my favorites, for a reason:\n",
      "1), The Evil Queen (a remake of the best-known film of the 1980s starring Kevin Spacey‬ in the 1993 movie starring Anthony Mackie, is in its\n"
     ]
    }
   ],
   "source": [
    "print(generator(\"My review of The Road Not Taken, the Movie:\", max_length=100)[0]['generated_text'])"
   ]
  },
  {
   "cell_type": "markdown",
   "id": "d643be14",
   "metadata": {},
   "source": [
    "You can also generate dialogues and interview transcripts:"
   ]
  },
  {
   "cell_type": "code",
   "execution_count": 34,
   "id": "0295ee5c",
   "metadata": {},
   "outputs": [
    {
     "name": "stderr",
     "output_type": "stream",
     "text": [
      "Setting `pad_token_id` to `eos_token_id`:50256 for open-end generation.\n"
     ]
    },
    {
     "name": "stdout",
     "output_type": "stream",
     "text": [
      "Allison: I took the road less traveled by.\n",
      "Robert Frost: The Dark Lord (Downton Abbey)\n",
      "Robert Frost: The Dark Lord (Downton Abbey)\n",
      "Robert Frost: The Dark Lord (Downton Abbey)\n",
      "Robert Frost: The Dark Lord (Downton Abbey)\n",
      "Robert Frost: The Dark Lord (Downton Abbey)\n",
      "Robert Frost: The Dark Lord (Downton Abbey)\n",
      "Robert Frost: The Dark Lord (Downton\n"
     ]
    }
   ],
   "source": [
    "print(generator(\"Allison: I took the road less traveled by.\\nRobert Frost:\",\n",
    "                max_length=100)[0]['generated_text'])"
   ]
  },
  {
   "cell_type": "markdown",
   "id": "06de3603",
   "metadata": {},
   "source": [
    "Poetry facts:"
   ]
  },
  {
   "cell_type": "code",
   "execution_count": 35,
   "id": "cfc9a4c0",
   "metadata": {},
   "outputs": [
    {
     "name": "stderr",
     "output_type": "stream",
     "text": [
      "Setting `pad_token_id` to `eos_token_id`:50256 for open-end generation.\n"
     ]
    },
    {
     "name": "stdout",
     "output_type": "stream",
     "text": [
      "My favorite facts about poetry:\n",
      "\n",
      "1. The main thing about the world around us is to look at the human condition (read, our self-image, our ability to perceive things, etc.)\n",
      "2. And just to be fair to you in the way people always do to us, as if this whole thing somehow makes sense. The only positive thing I can say about the world about the world as a whole is to have that world that we’ have, then, we can\n"
     ]
    }
   ],
   "source": [
    "print(generator(\"My favorite facts about poetry:\\n\\n1.\",\n",
    "                max_length=100)[0]['generated_text'])"
   ]
  },
  {
   "cell_type": "markdown",
   "id": "2e80b074",
   "metadata": {},
   "source": [
    "In general, this kind of prompting works best with texts that are likely to have a lot of representation in the training corpus."
   ]
  },
  {
   "cell_type": "markdown",
   "id": "81363f7a",
   "metadata": {},
   "source": [
    "### Sampling with temperature\n",
    "\n",
    "As mentioned above, the `distilgpt2` model, by default, picks the next token at random, weighted by the probability that the model assigns to the word. To demonstrate how this works, let's imagine that the model only has five tokens in its vocabulary (instead of 50,000+). A schematic illustration of those probabilities might look like this:\n",
    "\n",
    "    prompt: Whose woods these are I think I\n",
    "    probabilities:\n",
    "        know -> 0.5\n",
    "        knew -> 0.2\n",
    "        smell -> 0.15\n",
    "        see -> 0.1\n",
    "        am -> 0.05\n"
   ]
  },
  {
   "cell_type": "markdown",
   "id": "15474aa6",
   "metadata": {},
   "source": [
    "The probabilities will add up to `1.0`. A probability of `0.5` indicates that the token has a 50% probability of coming next; a probability of 0.2 means that the token has a 20% probability of coming next, etc. Here are those probabilities represented in Python as two lists—one with the words, and one with the probabilities that correspond to those words by index:"
   ]
  },
  {
   "cell_type": "code",
   "execution_count": 36,
   "id": "67854938",
   "metadata": {},
   "outputs": [],
   "source": [
    "tokens = ['know', 'knew', 'smell', 'see', 'am']\n",
    "probs = [0.5, 0.2, 0.15, 0.1, 0.05]"
   ]
  },
  {
   "cell_type": "markdown",
   "id": "f95c6404",
   "metadata": {},
   "source": [
    "By default, to select the next token, the generation code picks from this list weighted by probability. The code to do this with PyTorch looks like this:"
   ]
  },
  {
   "cell_type": "code",
   "execution_count": 37,
   "id": "b9f85011",
   "metadata": {},
   "outputs": [
    {
     "name": "stdout",
     "output_type": "stream",
     "text": [
      "am\n"
     ]
    }
   ],
   "source": [
    "index = torch.multinomial(torch.tensor(probs), 1).item()\n",
    "print(tokens[index])"
   ]
  },
  {
   "cell_type": "markdown",
   "id": "636e2d8c",
   "metadata": {},
   "source": [
    "You don't have to worry about the specifics of this code—I'm just using it to demonstrate how the sampling process works. Run the code a few times and you'll see that about half the time you get \"knew\"—the token with the highest probability. Running the code in a loop makes this a bit easier to see:"
   ]
  },
  {
   "cell_type": "code",
   "execution_count": 38,
   "id": "af732dd1",
   "metadata": {},
   "outputs": [
    {
     "name": "stdout",
     "output_type": "stream",
     "text": [
      "know\n",
      "knew\n",
      "see\n",
      "know\n",
      "smell\n",
      "smell\n",
      "know\n",
      "am\n",
      "smell\n",
      "know\n"
     ]
    }
   ],
   "source": [
    "for i in range(10):\n",
    "    index = torch.multinomial(torch.tensor(probs), 1).item()\n",
    "    print(tokens[index])"
   ]
  },
  {
   "cell_type": "markdown",
   "id": "d12d2fcf",
   "metadata": {},
   "source": [
    "The generation process has a parameter called *temperature*, which lets you shift the probability distribution of the next token before it's sampled. If the temperature parameter is `1.0`, then sampling will proceed as normal, with the tokens weighted by their estimated probability. If the temperature parameter is less than `1.0`, then tokens that were already probable will get *more* probable. If the temperature parameter is greater than `1.0`, then the probabilities start to even out, approaching a uniform distribution (meaning that no token is more likely to be chosen than any other). To demonstrate this, I've written some code below that applies temperature to the probabilities defined above, and shows the resulting changes:"
   ]
  },
  {
   "cell_type": "code",
   "execution_count": 39,
   "id": "2fa5775f",
   "metadata": {},
   "outputs": [
    {
     "name": "stdout",
     "output_type": "stream",
     "text": [
      "temperature 0.10\n",
      "know   → 1.00\n",
      "knew   → 0.00\n",
      "smell  → 0.00\n",
      "see    → 0.00\n",
      "am     → 0.00\n",
      "\n",
      "temperature 0.35\n",
      "know   → 0.90\n",
      "knew   → 0.07\n",
      "smell  → 0.03\n",
      "see    → 0.01\n",
      "am     → 0.00\n",
      "\n",
      "temperature 1.00\n",
      "know   → 0.50\n",
      "knew   → 0.20\n",
      "smell  → 0.15\n",
      "see    → 0.10\n",
      "am     → 0.05\n",
      "\n",
      "temperature 2.00\n",
      "know   → 0.34\n",
      "knew   → 0.21\n",
      "smell  → 0.19\n",
      "see    → 0.15\n",
      "am     → 0.11\n",
      "\n",
      "temperature 50.00\n",
      "know   → 0.20\n",
      "knew   → 0.20\n",
      "smell  → 0.20\n",
      "see    → 0.20\n",
      "am     → 0.20\n",
      "\n"
     ]
    }
   ],
   "source": [
    "for temperature in [0.1, 0.35, 1.0, 2.0, 50.0]:\n",
    "    modified = torch.softmax(\n",
    "        torch.log(torch.tensor(probs)) / temperature, dim=-1)\n",
    "    print(f\"temperature {temperature:0.02f}\")\n",
    "    for tok, prob in zip(tokens, modified):\n",
    "        print(tok.ljust(6), \"→\", f\"{prob:0.002f}\")\n",
    "    print()"
   ]
  },
  {
   "cell_type": "markdown",
   "id": "7c095c57",
   "metadata": {},
   "source": [
    "You can see that at temperature `1.0`, the probabilities are identical to the original. At temperature `0.35`, the probability of the most likely token has been boosted, but the other tokens still have a small chance of occurring. At temperature `0.1`, only the most likely token has a chance of being selected. At temperature `2.0`, the most likely token is still the most likely, but the probabilities of the other tokens have been boosted in comparison; at temperature `50.0`, no token is considered to be more likely than any other.\n",
    "\n",
    "To apply temperature sampling to the model when generating text, pass the `temperature` parameter to the pipeline, like so:"
   ]
  },
  {
   "cell_type": "code",
   "execution_count": 40,
   "id": "13c5bccd",
   "metadata": {},
   "outputs": [
    {
     "name": "stderr",
     "output_type": "stream",
     "text": [
      "Setting `pad_token_id` to `eos_token_id`:50256 for open-end generation.\n"
     ]
    },
    {
     "data": {
      "text/plain": [
       "'Two roads diverged in a yellow light, and the police were called to the scene.\\n\\n\\n\\n\\n\\n\\n\\n\\n\\n\\n\\n\\n\\n\\n\\n\\n\\n\\n\\n\\n\\n\\n\\n\\n\\n\\n\\n\\n\\n\\n\\n\\n\\n\\n\\n\\n\\n\\n\\n\\n\\n\\n\\n\\n\\n\\n\\n\\n\\n\\n\\n\\n\\n\\n\\n\\n\\n\\n\\n\\n\\n\\n\\n\\n\\n\\n\\n\\n\\n\\n\\n\\n\\n\\n\\n\\n\\n\\n\\n\\n\\n'"
      ]
     },
     "execution_count": 40,
     "metadata": {},
     "output_type": "execute_result"
    }
   ],
   "source": [
    "generator(\"Two roads diverged in a yellow\",\n",
    "          temperature=0.1,\n",
    "          max_length=100)[0]['generated_text']"
   ]
  },
  {
   "cell_type": "markdown",
   "id": "2b94bd84",
   "metadata": {},
   "source": [
    "Low temperatures generally produce predictable, repetitive results. Here's an attempt with high temperature:"
   ]
  },
  {
   "cell_type": "code",
   "execution_count": 41,
   "id": "93298377",
   "metadata": {},
   "outputs": [
    {
     "name": "stderr",
     "output_type": "stream",
     "text": [
      "Setting `pad_token_id` to `eos_token_id`:50256 for open-end generation.\n"
     ]
    },
    {
     "data": {
      "text/plain": [
       "'Two roads diverged in a yellow Toyota with a dash lamp in and back off roads of three vehicles parked on Nalwudnathu with yellow paint along these tracks last Saturday morning\\nSikorjay Singh Bhalla in Sikkim district issued their verdict: After police detained her husband Rajya Jandkot as she boarded, he didnot return one afternoon to India due an unexpected accident and it took 12 years that another woman (who the driver has previously been missing).'"
      ]
     },
     "execution_count": 41,
     "metadata": {},
     "output_type": "execute_result"
    }
   ],
   "source": [
    "generator(\"Two roads diverged in a yellow\",\n",
    "          temperature=4.0,\n",
    "          max_length=100)[0]['generated_text']"
   ]
  },
  {
   "cell_type": "markdown",
   "id": "61a379f7",
   "metadata": {},
   "source": [
    "The higher temperature example produces less likely sequences of words, so the text is a bit livelier—sometimes at the cost of coherence.\n",
    "\n",
    "Adjusting the temperature can be useful when you want the text to be more or less \"weird.\" It can be helpful to adjust the temperature downward when you feel as though the model is producing text that is a bit too unpredictable; it can be helpful to adjust upward when you want to model to take more unexpected turns when generating."
   ]
  },
  {
   "cell_type": "markdown",
   "id": "22b2500c",
   "metadata": {},
   "source": [
    "### Top-k sampling\n",
    "\n",
    "By default, the generation process only selects from the top 50 most probable tokens at each step. This is called \"top-k filtering.\" Because of top-k filtering, you're not likely to sample truly unusual tokens even when the temperature is high. You can adjust the threshold for top-k filtering with the `top_k` parameter of the model. For example, adjusting `top_k` to the number of items in the vocabulary ensures that every token gets its chance:"
   ]
  },
  {
   "cell_type": "code",
   "execution_count": 42,
   "id": "bf4d73cb",
   "metadata": {},
   "outputs": [
    {
     "name": "stderr",
     "output_type": "stream",
     "text": [
      "Setting `pad_token_id` to `eos_token_id`:50256 for open-end generation.\n"
     ]
    },
    {
     "data": {
      "text/plain": [
       "\"Two roads diverged in a yellow Jeep Police SUV.\\n\\n\\n\\nThe sheriff's department's bureau collided with the man whose vehicle was on a northbound section of Route 82 southbound along Interstate 84 after Avenue 416 was hit by a vehicle,VIS reported.\\nFewer vehicles also developed problems, dispatch said.\\nOne mile ahead of Kennedy, a resident of SEAS paid a turnoff at Harding Way near Interstate 84 in East Lake.\\nThe vehicle spun west on S. 4th\""
      ]
     },
     "execution_count": 42,
     "metadata": {},
     "output_type": "execute_result"
    }
   ],
   "source": [
    "generator(\"Two roads diverged in a yellow\",\n",
    "          top_k=tokenizer.vocab_size,\n",
    "          max_length=100)[0]['generated_text']"
   ]
  },
  {
   "cell_type": "markdown",
   "id": "1fa7b265",
   "metadata": {},
   "source": [
    "Using this with a temperature greater than `1.0` can yield some unusual turns of phrase:"
   ]
  },
  {
   "cell_type": "code",
   "execution_count": 43,
   "id": "0b690453",
   "metadata": {},
   "outputs": [
    {
     "name": "stderr",
     "output_type": "stream",
     "text": [
      "Setting `pad_token_id` to `eos_token_id`:50256 for open-end generation.\n"
     ]
    },
    {
     "data": {
      "text/plain": [
       "'Two roads diverged in a yellowish tomato pursuit; highway crowd news clogged with xenophobic ideology\", this read[\"\\n\\n\\n\\n\\n\\nGraphic: one episode of racist series... simultaneously prohibited Porcotte from playing Madden International'"
      ]
     },
     "execution_count": 43,
     "metadata": {},
     "output_type": "execute_result"
    }
   ],
   "source": [
    "generator(\"Two roads diverged in a yellow\",\n",
    "          top_k=tokenizer.vocab_size,\n",
    "          temperature=1.2,\n",
    "          max_length=100)[0]['generated_text']"
   ]
  },
  {
   "cell_type": "markdown",
   "id": "1843eaef",
   "metadata": {},
   "source": [
    "On the other extreme, setting the `top_k` value to `1` ensures that *only* the most likely token is chosen at each step. This is the same thing as [\"greedy decoding\"](https://huggingface.co/transformers/main_classes/model.html#transformers.generation_utils.GenerationMixin.greedy_search):"
   ]
  },
  {
   "cell_type": "code",
   "execution_count": 44,
   "id": "ef3b18b7",
   "metadata": {},
   "outputs": [
    {
     "name": "stderr",
     "output_type": "stream",
     "text": [
      "Setting `pad_token_id` to `eos_token_id`:50256 for open-end generation.\n"
     ]
    },
    {
     "data": {
      "text/plain": [
       "'Two roads diverged in a yellow light, and the police were called to the scene.\\n\\n\\n\\n\\n\\n\\n\\n\\n\\n\\n\\n\\n\\n\\n\\n\\n\\n\\n\\n\\n\\n\\n\\n\\n\\n\\n\\n\\n\\n\\n\\n\\n\\n\\n\\n\\n\\n\\n\\n\\n\\n\\n\\n\\n\\n\\n\\n\\n\\n\\n\\n\\n\\n\\n\\n\\n\\n\\n\\n\\n\\n\\n\\n\\n\\n\\n\\n\\n\\n\\n\\n\\n\\n\\n\\n\\n\\n\\n\\n\\n\\n'"
      ]
     },
     "execution_count": 44,
     "metadata": {},
     "output_type": "execute_result"
    }
   ],
   "source": [
    "generator(\"Two roads diverged in a yellow\",\n",
    "          top_k=1,\n",
    "          max_length=100)[0]['generated_text']"
   ]
  },
  {
   "cell_type": "markdown",
   "id": "4e343fed",
   "metadata": {},
   "source": [
    "Playing around with `top_k` and `temperature` in tandem is a good way to make adjustments to the texture of your generated text."
   ]
  },
  {
   "cell_type": "markdown",
   "id": "3d87511e",
   "metadata": {},
   "source": [
    "### Logit warping: Exclude \"bad\" words\n",
    "\n",
    "The `.generate()` method has a parameter called `bad_words_ids`, which causes the model to zero out the probabilities of tokens associated with words that you pass in. The intended use of this feature is to stop the model from generating offensive or harmful words. But we can also repurpose it for poetic purposes. For example, in the cell below, I make the model complete the prompt \"It was a dark and stormy\" *without* using the words \"night\" or \"day\":"
   ]
  },
  {
   "cell_type": "code",
   "execution_count": 45,
   "id": "e691ce3e",
   "metadata": {},
   "outputs": [
    {
     "name": "stderr",
     "output_type": "stream",
     "text": [
      "Setting `pad_token_id` to `eos_token_id`:50256 for open-end generation.\n"
     ]
    },
    {
     "data": {
      "text/plain": [
       "'It was a dark and stormy evening, a very dark and storming morning. The young lady and the servant bothstocks all their clothing and, at once, they saw it with the black horse, all the money ran into the banks and into'"
      ]
     },
     "execution_count": 45,
     "metadata": {},
     "output_type": "execute_result"
    }
   ],
   "source": [
    "generator(\"It was a dark and stormy\",\n",
    "          bad_words_ids=tokenizer([\" night\", \" day\"]).input_ids)[0]['generated_text']"
   ]
  },
  {
   "cell_type": "markdown",
   "id": "4cdc646c",
   "metadata": {},
   "source": [
    "The syntax for specifying the \"bad words\" is to call the tokenizer on a list of words that you want to exclude, and then get the `.input_ids` attribute of the value returned from calling the tokenizer. This yields a list of lists that looks like this:"
   ]
  },
  {
   "cell_type": "code",
   "execution_count": 46,
   "id": "8a18221f",
   "metadata": {},
   "outputs": [
    {
     "data": {
      "text/plain": [
       "[[3237, 1653], [47, 3258, 680]]"
      ]
     },
     "execution_count": 46,
     "metadata": {},
     "output_type": "execute_result"
    }
   ],
   "source": [
    "tokenizer([\"Allison\", \"Parrish\"]).input_ids"
   ]
  },
  {
   "cell_type": "markdown",
   "id": "e44e2879",
   "metadata": {},
   "source": [
    "Note that I used ` night` and ` day` as the words, with leading spaces—this is necessary because I ended the prompt without whitespace, so the model is likely to generate a token with leading whitespace at the next step. I've found that the `bad_words_ids` parameter works best if your list of words includes versions both with and without whitespace.\n",
    "\n",
    "Here's another example: getting the model to complete a prompt without using any forms of the verb *to be*:"
   ]
  },
  {
   "cell_type": "code",
   "execution_count": 47,
   "id": "a5c7fc50",
   "metadata": {},
   "outputs": [
    {
     "name": "stderr",
     "output_type": "stream",
     "text": [
      "Setting `pad_token_id` to `eos_token_id`:50256 for open-end generation.\n"
     ]
    },
    {
     "data": {
      "text/plain": [
       "'Once upon a time, a large number of non-essential tasks that require the human mind to do more and more intensive tasks can still exist in the human mind during a day. Some tasks can only occur during a long period of time. However, the lack of time for every task does have an impact on mental wellbeing. While this finding may not necessarily appear like a big deal, it also suggests that the absence of a major advantage to each individualplanned and controlled task could have an impact on mental'"
      ]
     },
     "execution_count": 47,
     "metadata": {},
     "output_type": "execute_result"
    }
   ],
   "source": [
    "generator(\"Once upon a time,\",\n",
    "          bad_words_ids=tokenizer(\n",
    "              [\"be\", \" be\",\n",
    "               \"am\", \" am\",\n",
    "               \"are\", \" are\",\n",
    "               \"is\", \" is\",\n",
    "               \"was\", \" was\",\n",
    "               \"were\", \" were\"]).input_ids,\n",
    "          max_length=100)[0]['generated_text']"
   ]
  },
  {
   "cell_type": "markdown",
   "id": "bec6a2df",
   "metadata": {},
   "source": [
    "You can also create a list of token IDs that you want to exclude on the fly. In the following example, I make a list of token IDs that have the letter `e` in them, and pass that list to the `bad_words_ids` parameter:"
   ]
  },
  {
   "cell_type": "code",
   "execution_count": 48,
   "id": "9dd76bc3",
   "metadata": {
    "scrolled": false
   },
   "outputs": [
    {
     "name": "stderr",
     "output_type": "stream",
     "text": [
      "Setting `pad_token_id` to `eos_token_id`:50256 for open-end generation.\n"
     ]
    },
    {
     "name": "stdout",
     "output_type": "stream",
     "text": [
      "Last month, I was still thinking about how to buy a car or a car and how to plan for it. I am glad that I was lucky with it.\n",
      "\n",
      "\n",
      "I should say that I wish I could say how to buy a car that I am willing to pay for… for cars that I truly won't own. I wish I could list things that I did not want to buy in my own mind, and I wish I could say how to buy that. I wish I could\n"
     ]
    }
   ],
   "source": [
    "forbidden_ids = []\n",
    "for key, val in tokenizer.get_vocab().items():\n",
    "    if 'e' in key:\n",
    "        forbidden_ids.append([val]) # needs to be a list of lists\n",
    "print(generator(\"Last month, I\",\n",
    "          bad_words_ids=forbidden_ids,\n",
    "          max_length=100)[0]['generated_text'])"
   ]
  },
  {
   "cell_type": "markdown",
   "id": "5db6369e",
   "metadata": {},
   "source": [
    "### Fine-tuning a model\n",
    "\n",
    "\"Fine-tuning\" is a way of slightly modifying a model by training it a few extra steps on a corpus of your choice. This process adjusts the probabilities of the model so that it more closely reflects the probabilities of the source text you train it on. Fine-tuning models with Transformers is a little bit tricky! First, you'll need to install Hugging Face's `datasets` package:"
   ]
  },
  {
   "cell_type": "code",
   "execution_count": 49,
   "id": "66e3757c",
   "metadata": {},
   "outputs": [
    {
     "name": "stdout",
     "output_type": "stream",
     "text": [
      "huggingface/tokenizers: The current process just got forked, after parallelism has already been used. Disabling parallelism to avoid deadlocks...\n",
      "To disable this warning, you can either:\n",
      "\t- Avoid using `tokenizers` before the fork if possible\n",
      "\t- Explicitly set the environment variable TOKENIZERS_PARALLELISM=(true | false)\n",
      "Requirement already satisfied: datasets in /Users/annaaa/opt/anaconda3/lib/python3.9/site-packages (2.11.0)\n",
      "Requirement already satisfied: requests>=2.19.0 in /Users/annaaa/opt/anaconda3/lib/python3.9/site-packages (from datasets) (2.28.1)\n",
      "Requirement already satisfied: numpy>=1.17 in /Users/annaaa/opt/anaconda3/lib/python3.9/site-packages (from datasets) (1.21.5)\n",
      "Requirement already satisfied: tqdm>=4.62.1 in /Users/annaaa/opt/anaconda3/lib/python3.9/site-packages (from datasets) (4.64.1)\n",
      "Requirement already satisfied: dill<0.3.7,>=0.3.0 in /Users/annaaa/opt/anaconda3/lib/python3.9/site-packages (from datasets) (0.3.6)\n",
      "Requirement already satisfied: aiohttp in /Users/annaaa/opt/anaconda3/lib/python3.9/site-packages (from datasets) (3.8.4)\n",
      "Requirement already satisfied: responses<0.19 in /Users/annaaa/opt/anaconda3/lib/python3.9/site-packages (from datasets) (0.18.0)\n",
      "Requirement already satisfied: pandas in /Users/annaaa/opt/anaconda3/lib/python3.9/site-packages (from datasets) (1.4.4)\n",
      "Requirement already satisfied: xxhash in /Users/annaaa/opt/anaconda3/lib/python3.9/site-packages (from datasets) (3.2.0)\n",
      "Requirement already satisfied: packaging in /Users/annaaa/opt/anaconda3/lib/python3.9/site-packages (from datasets) (21.3)\n",
      "Requirement already satisfied: pyyaml>=5.1 in /Users/annaaa/opt/anaconda3/lib/python3.9/site-packages (from datasets) (6.0)\n",
      "Requirement already satisfied: pyarrow>=8.0.0 in /Users/annaaa/opt/anaconda3/lib/python3.9/site-packages (from datasets) (11.0.0)\n",
      "Requirement already satisfied: huggingface-hub<1.0.0,>=0.11.0 in /Users/annaaa/opt/anaconda3/lib/python3.9/site-packages (from datasets) (0.13.3)\n",
      "Requirement already satisfied: fsspec[http]>=2021.11.1 in /Users/annaaa/opt/anaconda3/lib/python3.9/site-packages (from datasets) (2022.7.1)\n",
      "Requirement already satisfied: multiprocess in /Users/annaaa/opt/anaconda3/lib/python3.9/site-packages (from datasets) (0.70.14)\n",
      "Requirement already satisfied: typing-extensions>=3.7.4.3 in /Users/annaaa/opt/anaconda3/lib/python3.9/site-packages (from huggingface-hub<1.0.0,>=0.11.0->datasets) (4.3.0)\n",
      "Requirement already satisfied: filelock in /Users/annaaa/opt/anaconda3/lib/python3.9/site-packages (from huggingface-hub<1.0.0,>=0.11.0->datasets) (3.6.0)\n",
      "Requirement already satisfied: pyparsing!=3.0.5,>=2.0.2 in /Users/annaaa/opt/anaconda3/lib/python3.9/site-packages (from packaging->datasets) (3.0.9)\n",
      "Requirement already satisfied: charset-normalizer<3,>=2 in /Users/annaaa/opt/anaconda3/lib/python3.9/site-packages (from requests>=2.19.0->datasets) (2.0.4)\n",
      "Requirement already satisfied: idna<4,>=2.5 in /Users/annaaa/opt/anaconda3/lib/python3.9/site-packages (from requests>=2.19.0->datasets) (3.3)\n",
      "Requirement already satisfied: urllib3<1.27,>=1.21.1 in /Users/annaaa/opt/anaconda3/lib/python3.9/site-packages (from requests>=2.19.0->datasets) (1.26.11)\n",
      "Requirement already satisfied: certifi>=2017.4.17 in /Users/annaaa/opt/anaconda3/lib/python3.9/site-packages (from requests>=2.19.0->datasets) (2022.9.24)\n",
      "Requirement already satisfied: yarl<2.0,>=1.0 in /Users/annaaa/opt/anaconda3/lib/python3.9/site-packages (from aiohttp->datasets) (1.8.2)\n",
      "Requirement already satisfied: frozenlist>=1.1.1 in /Users/annaaa/opt/anaconda3/lib/python3.9/site-packages (from aiohttp->datasets) (1.3.3)\n",
      "Requirement already satisfied: multidict<7.0,>=4.5 in /Users/annaaa/opt/anaconda3/lib/python3.9/site-packages (from aiohttp->datasets) (6.0.4)\n",
      "Requirement already satisfied: attrs>=17.3.0 in /Users/annaaa/opt/anaconda3/lib/python3.9/site-packages (from aiohttp->datasets) (21.4.0)\n",
      "Requirement already satisfied: async-timeout<5.0,>=4.0.0a3 in /Users/annaaa/opt/anaconda3/lib/python3.9/site-packages (from aiohttp->datasets) (4.0.2)\n",
      "Requirement already satisfied: aiosignal>=1.1.2 in /Users/annaaa/opt/anaconda3/lib/python3.9/site-packages (from aiohttp->datasets) (1.3.1)\n",
      "Requirement already satisfied: python-dateutil>=2.8.1 in /Users/annaaa/opt/anaconda3/lib/python3.9/site-packages (from pandas->datasets) (2.8.2)\n",
      "Requirement already satisfied: pytz>=2020.1 in /Users/annaaa/opt/anaconda3/lib/python3.9/site-packages (from pandas->datasets) (2022.1)\n",
      "Requirement already satisfied: six>=1.5 in /Users/annaaa/opt/anaconda3/lib/python3.9/site-packages (from python-dateutil>=2.8.1->pandas->datasets) (1.16.0)\n"
     ]
    }
   ],
   "source": [
    "import sys\n",
    "!{sys.executable} -m pip install datasets"
   ]
  },
  {
   "cell_type": "markdown",
   "id": "46e0395a",
   "metadata": {},
   "source": [
    "And then import it:"
   ]
  },
  {
   "cell_type": "code",
   "execution_count": 78,
   "id": "6f4d68e2",
   "metadata": {},
   "outputs": [],
   "source": [
    "import datasets"
   ]
  },
  {
   "cell_type": "markdown",
   "id": "3ab81720",
   "metadata": {},
   "source": [
    "You'll want to select a text file to fine-tune the model on. Fine-tuning works best on large amounts of text, but fine-tuning is also very slow if you're not using a GPU. For demonstration purposes, I create a special version of [Frankenstein](https://www.gutenberg.org/ebooks/84) that contains only the first 20000 characters, and save it to a file:"
   ]
  },
  {
   "cell_type": "code",
   "execution_count": 84,
   "id": "35a2a3c1",
   "metadata": {},
   "outputs": [],
   "source": [
    "with open(\"84-0-20k.txt\", \"w\") as fh:\n",
    "    fh.write(open(\"84-0.txt\").read()[:20000])"
   ]
  },
  {
   "cell_type": "markdown",
   "id": "1221ac91",
   "metadata": {},
   "source": [
    "Then I load this text file as my fine-tuning dataset:"
   ]
  },
  {
   "cell_type": "code",
   "execution_count": 85,
   "id": "9a037218",
   "metadata": {},
   "outputs": [
    {
     "name": "stdout",
     "output_type": "stream",
     "text": [
      "Downloading and preparing dataset text/default to /Users/annaaa/.cache/huggingface/datasets/text/default-962a044f54edf686/0.0.0/cb1e9bd71a82ad27976be3b12b407850fe2837d80c22c5e03a28949843a8ace2...\n"
     ]
    },
    {
     "data": {
      "application/vnd.jupyter.widget-view+json": {
       "model_id": "f30a5c2ea63a48ceb5dc4de5d9c77368",
       "version_major": 2,
       "version_minor": 0
      },
      "text/plain": [
       "Downloading data files:   0%|          | 0/1 [00:00<?, ?it/s]"
      ]
     },
     "metadata": {},
     "output_type": "display_data"
    },
    {
     "data": {
      "application/vnd.jupyter.widget-view+json": {
       "model_id": "9743ffd0674544ed8c6f11e293ed3852",
       "version_major": 2,
       "version_minor": 0
      },
      "text/plain": [
       "Extracting data files:   0%|          | 0/1 [00:00<?, ?it/s]"
      ]
     },
     "metadata": {},
     "output_type": "display_data"
    },
    {
     "data": {
      "application/vnd.jupyter.widget-view+json": {
       "model_id": "",
       "version_major": 2,
       "version_minor": 0
      },
      "text/plain": [
       "Generating train split: 0 examples [00:00, ? examples/s]"
      ]
     },
     "metadata": {},
     "output_type": "display_data"
    },
    {
     "ename": "DatasetGenerationError",
     "evalue": "An error occurred while generating the dataset",
     "output_type": "error",
     "traceback": [
      "\u001b[0;31m---------------------------------------------------------------------------\u001b[0m",
      "\u001b[0;31mSchemaInferenceError\u001b[0m                      Traceback (most recent call last)",
      "\u001b[0;32m~/opt/anaconda3/lib/python3.9/site-packages/datasets/builder.py\u001b[0m in \u001b[0;36m_prepare_split_single\u001b[0;34m(self, gen_kwargs, fpath, file_format, max_shard_size, job_id)\u001b[0m\n\u001b[1;32m   1883\u001b[0m                 \u001b[0mnum_shards\u001b[0m \u001b[0;34m=\u001b[0m \u001b[0mshard_id\u001b[0m \u001b[0;34m+\u001b[0m \u001b[0;36m1\u001b[0m\u001b[0;34m\u001b[0m\u001b[0;34m\u001b[0m\u001b[0m\n\u001b[0;32m-> 1884\u001b[0;31m                 \u001b[0mnum_examples\u001b[0m\u001b[0;34m,\u001b[0m \u001b[0mnum_bytes\u001b[0m \u001b[0;34m=\u001b[0m \u001b[0mwriter\u001b[0m\u001b[0;34m.\u001b[0m\u001b[0mfinalize\u001b[0m\u001b[0;34m(\u001b[0m\u001b[0;34m)\u001b[0m\u001b[0;34m\u001b[0m\u001b[0;34m\u001b[0m\u001b[0m\n\u001b[0m\u001b[1;32m   1885\u001b[0m                 \u001b[0mwriter\u001b[0m\u001b[0;34m.\u001b[0m\u001b[0mclose\u001b[0m\u001b[0;34m(\u001b[0m\u001b[0;34m)\u001b[0m\u001b[0;34m\u001b[0m\u001b[0;34m\u001b[0m\u001b[0m\n",
      "\u001b[0;32m~/opt/anaconda3/lib/python3.9/site-packages/datasets/arrow_writer.py\u001b[0m in \u001b[0;36mfinalize\u001b[0;34m(self, close_stream)\u001b[0m\n\u001b[1;32m    593\u001b[0m                 \u001b[0mself\u001b[0m\u001b[0;34m.\u001b[0m\u001b[0mstream\u001b[0m\u001b[0;34m.\u001b[0m\u001b[0mclose\u001b[0m\u001b[0;34m(\u001b[0m\u001b[0;34m)\u001b[0m\u001b[0;34m\u001b[0m\u001b[0;34m\u001b[0m\u001b[0m\n\u001b[0;32m--> 594\u001b[0;31m             \u001b[0;32mraise\u001b[0m \u001b[0mSchemaInferenceError\u001b[0m\u001b[0;34m(\u001b[0m\u001b[0;34m\"Please pass `features` or at least one example when writing data\"\u001b[0m\u001b[0;34m)\u001b[0m\u001b[0;34m\u001b[0m\u001b[0;34m\u001b[0m\u001b[0m\n\u001b[0m\u001b[1;32m    595\u001b[0m         logger.debug(\n",
      "\u001b[0;31mSchemaInferenceError\u001b[0m: Please pass `features` or at least one example when writing data",
      "\nThe above exception was the direct cause of the following exception:\n",
      "\u001b[0;31mDatasetGenerationError\u001b[0m                    Traceback (most recent call last)",
      "\u001b[0;32m/var/folders/92/ky559sqj6k57cprgfnv1vcvw0000gn/T/ipykernel_8317/1722504040.py\u001b[0m in \u001b[0;36m<module>\u001b[0;34m\u001b[0m\n\u001b[0;32m----> 1\u001b[0;31m \u001b[0mtraining_data\u001b[0m \u001b[0;34m=\u001b[0m \u001b[0mdatasets\u001b[0m\u001b[0;34m.\u001b[0m\u001b[0mload_dataset\u001b[0m\u001b[0;34m(\u001b[0m\u001b[0;34m'text'\u001b[0m\u001b[0;34m,\u001b[0m \u001b[0mdata_files\u001b[0m\u001b[0;34m=\u001b[0m\u001b[0;34m\"84-0-20k.txt\"\u001b[0m\u001b[0;34m)\u001b[0m\u001b[0;34m\u001b[0m\u001b[0;34m\u001b[0m\u001b[0m\n\u001b[0m",
      "\u001b[0;32m~/opt/anaconda3/lib/python3.9/site-packages/datasets/load.py\u001b[0m in \u001b[0;36mload_dataset\u001b[0;34m(path, name, data_dir, data_files, split, cache_dir, features, download_config, download_mode, verification_mode, ignore_verifications, keep_in_memory, save_infos, revision, use_auth_token, task, streaming, num_proc, storage_options, **config_kwargs)\u001b[0m\n\u001b[1;32m   1789\u001b[0m \u001b[0;34m\u001b[0m\u001b[0m\n\u001b[1;32m   1790\u001b[0m     \u001b[0;31m# Download and prepare data\u001b[0m\u001b[0;34m\u001b[0m\u001b[0;34m\u001b[0m\u001b[0m\n\u001b[0;32m-> 1791\u001b[0;31m     builder_instance.download_and_prepare(\n\u001b[0m\u001b[1;32m   1792\u001b[0m         \u001b[0mdownload_config\u001b[0m\u001b[0;34m=\u001b[0m\u001b[0mdownload_config\u001b[0m\u001b[0;34m,\u001b[0m\u001b[0;34m\u001b[0m\u001b[0;34m\u001b[0m\u001b[0m\n\u001b[1;32m   1793\u001b[0m         \u001b[0mdownload_mode\u001b[0m\u001b[0;34m=\u001b[0m\u001b[0mdownload_mode\u001b[0m\u001b[0;34m,\u001b[0m\u001b[0;34m\u001b[0m\u001b[0;34m\u001b[0m\u001b[0m\n",
      "\u001b[0;32m~/opt/anaconda3/lib/python3.9/site-packages/datasets/builder.py\u001b[0m in \u001b[0;36mdownload_and_prepare\u001b[0;34m(self, output_dir, download_config, download_mode, verification_mode, ignore_verifications, try_from_hf_gcs, dl_manager, base_path, use_auth_token, file_format, max_shard_size, num_proc, storage_options, **download_and_prepare_kwargs)\u001b[0m\n\u001b[1;32m    889\u001b[0m                         \u001b[0;32mif\u001b[0m \u001b[0mnum_proc\u001b[0m \u001b[0;32mis\u001b[0m \u001b[0;32mnot\u001b[0m \u001b[0;32mNone\u001b[0m\u001b[0;34m:\u001b[0m\u001b[0;34m\u001b[0m\u001b[0;34m\u001b[0m\u001b[0m\n\u001b[1;32m    890\u001b[0m                             \u001b[0mprepare_split_kwargs\u001b[0m\u001b[0;34m[\u001b[0m\u001b[0;34m\"num_proc\"\u001b[0m\u001b[0;34m]\u001b[0m \u001b[0;34m=\u001b[0m \u001b[0mnum_proc\u001b[0m\u001b[0;34m\u001b[0m\u001b[0;34m\u001b[0m\u001b[0m\n\u001b[0;32m--> 891\u001b[0;31m                         self._download_and_prepare(\n\u001b[0m\u001b[1;32m    892\u001b[0m                             \u001b[0mdl_manager\u001b[0m\u001b[0;34m=\u001b[0m\u001b[0mdl_manager\u001b[0m\u001b[0;34m,\u001b[0m\u001b[0;34m\u001b[0m\u001b[0;34m\u001b[0m\u001b[0m\n\u001b[1;32m    893\u001b[0m                             \u001b[0mverification_mode\u001b[0m\u001b[0;34m=\u001b[0m\u001b[0mverification_mode\u001b[0m\u001b[0;34m,\u001b[0m\u001b[0;34m\u001b[0m\u001b[0;34m\u001b[0m\u001b[0m\n",
      "\u001b[0;32m~/opt/anaconda3/lib/python3.9/site-packages/datasets/builder.py\u001b[0m in \u001b[0;36m_download_and_prepare\u001b[0;34m(self, dl_manager, verification_mode, **prepare_split_kwargs)\u001b[0m\n\u001b[1;32m    984\u001b[0m             \u001b[0;32mtry\u001b[0m\u001b[0;34m:\u001b[0m\u001b[0;34m\u001b[0m\u001b[0;34m\u001b[0m\u001b[0m\n\u001b[1;32m    985\u001b[0m                 \u001b[0;31m# Prepare split will record examples associated to the split\u001b[0m\u001b[0;34m\u001b[0m\u001b[0;34m\u001b[0m\u001b[0m\n\u001b[0;32m--> 986\u001b[0;31m                 \u001b[0mself\u001b[0m\u001b[0;34m.\u001b[0m\u001b[0m_prepare_split\u001b[0m\u001b[0;34m(\u001b[0m\u001b[0msplit_generator\u001b[0m\u001b[0;34m,\u001b[0m \u001b[0;34m**\u001b[0m\u001b[0mprepare_split_kwargs\u001b[0m\u001b[0;34m)\u001b[0m\u001b[0;34m\u001b[0m\u001b[0;34m\u001b[0m\u001b[0m\n\u001b[0m\u001b[1;32m    987\u001b[0m             \u001b[0;32mexcept\u001b[0m \u001b[0mOSError\u001b[0m \u001b[0;32mas\u001b[0m \u001b[0me\u001b[0m\u001b[0;34m:\u001b[0m\u001b[0;34m\u001b[0m\u001b[0;34m\u001b[0m\u001b[0m\n\u001b[1;32m    988\u001b[0m                 raise OSError(\n",
      "\u001b[0;32m~/opt/anaconda3/lib/python3.9/site-packages/datasets/builder.py\u001b[0m in \u001b[0;36m_prepare_split\u001b[0;34m(self, split_generator, file_format, num_proc, max_shard_size)\u001b[0m\n\u001b[1;32m   1746\u001b[0m             \u001b[0mjob_id\u001b[0m \u001b[0;34m=\u001b[0m \u001b[0;36m0\u001b[0m\u001b[0;34m\u001b[0m\u001b[0;34m\u001b[0m\u001b[0m\n\u001b[1;32m   1747\u001b[0m             \u001b[0;32mwith\u001b[0m \u001b[0mpbar\u001b[0m\u001b[0;34m:\u001b[0m\u001b[0;34m\u001b[0m\u001b[0;34m\u001b[0m\u001b[0m\n\u001b[0;32m-> 1748\u001b[0;31m                 for job_id, done, content in self._prepare_split_single(\n\u001b[0m\u001b[1;32m   1749\u001b[0m                     \u001b[0mgen_kwargs\u001b[0m\u001b[0;34m=\u001b[0m\u001b[0mgen_kwargs\u001b[0m\u001b[0;34m,\u001b[0m \u001b[0mjob_id\u001b[0m\u001b[0;34m=\u001b[0m\u001b[0mjob_id\u001b[0m\u001b[0;34m,\u001b[0m \u001b[0;34m**\u001b[0m\u001b[0m_prepare_split_args\u001b[0m\u001b[0;34m\u001b[0m\u001b[0;34m\u001b[0m\u001b[0m\n\u001b[1;32m   1750\u001b[0m                 ):\n",
      "\u001b[0;32m~/opt/anaconda3/lib/python3.9/site-packages/datasets/builder.py\u001b[0m in \u001b[0;36m_prepare_split_single\u001b[0;34m(self, gen_kwargs, fpath, file_format, max_shard_size, job_id)\u001b[0m\n\u001b[1;32m   1891\u001b[0m             \u001b[0;32mif\u001b[0m \u001b[0misinstance\u001b[0m\u001b[0;34m(\u001b[0m\u001b[0me\u001b[0m\u001b[0;34m,\u001b[0m \u001b[0mSchemaInferenceError\u001b[0m\u001b[0;34m)\u001b[0m \u001b[0;32mand\u001b[0m \u001b[0me\u001b[0m\u001b[0;34m.\u001b[0m\u001b[0m__context__\u001b[0m \u001b[0;32mis\u001b[0m \u001b[0;32mnot\u001b[0m \u001b[0;32mNone\u001b[0m\u001b[0;34m:\u001b[0m\u001b[0;34m\u001b[0m\u001b[0;34m\u001b[0m\u001b[0m\n\u001b[1;32m   1892\u001b[0m                 \u001b[0me\u001b[0m \u001b[0;34m=\u001b[0m \u001b[0me\u001b[0m\u001b[0;34m.\u001b[0m\u001b[0m__context__\u001b[0m\u001b[0;34m\u001b[0m\u001b[0;34m\u001b[0m\u001b[0m\n\u001b[0;32m-> 1893\u001b[0;31m             \u001b[0;32mraise\u001b[0m \u001b[0mDatasetGenerationError\u001b[0m\u001b[0;34m(\u001b[0m\u001b[0;34m\"An error occurred while generating the dataset\"\u001b[0m\u001b[0;34m)\u001b[0m \u001b[0;32mfrom\u001b[0m \u001b[0me\u001b[0m\u001b[0;34m\u001b[0m\u001b[0;34m\u001b[0m\u001b[0m\n\u001b[0m\u001b[1;32m   1894\u001b[0m \u001b[0;34m\u001b[0m\u001b[0m\n\u001b[1;32m   1895\u001b[0m         \u001b[0;32myield\u001b[0m \u001b[0mjob_id\u001b[0m\u001b[0;34m,\u001b[0m \u001b[0;32mTrue\u001b[0m\u001b[0;34m,\u001b[0m \u001b[0;34m(\u001b[0m\u001b[0mtotal_num_examples\u001b[0m\u001b[0;34m,\u001b[0m \u001b[0mtotal_num_bytes\u001b[0m\u001b[0;34m,\u001b[0m \u001b[0mwriter\u001b[0m\u001b[0;34m.\u001b[0m\u001b[0m_features\u001b[0m\u001b[0;34m,\u001b[0m \u001b[0mnum_shards\u001b[0m\u001b[0;34m,\u001b[0m \u001b[0mshard_lengths\u001b[0m\u001b[0;34m)\u001b[0m\u001b[0;34m\u001b[0m\u001b[0;34m\u001b[0m\u001b[0m\n",
      "\u001b[0;31mDatasetGenerationError\u001b[0m: An error occurred while generating the dataset"
     ]
    }
   ],
   "source": [
    "training_data = datasets.load_dataset('text', data_files=\"84-0-20k.txt\")"
   ]
  },
  {
   "cell_type": "markdown",
   "id": "b31f0ead",
   "metadata": {},
   "source": [
    "Now, there's a bunch of obligatory processing that we need to do to the data in order to prepare it for the model. This is boilerplate stuff, which I'm not going to go into in detail. If you want details, consult Hugging Face's [fine-tuning language models notebook](https://github.com/huggingface/notebooks/blob/master/examples/language_modeling.ipynb).\n",
    "\n",
    "First, we tokenize the text:"
   ]
  },
  {
   "cell_type": "code",
   "execution_count": 86,
   "id": "dc75a5ff",
   "metadata": {},
   "outputs": [
    {
     "ename": "NameError",
     "evalue": "name 'training_data' is not defined",
     "output_type": "error",
     "traceback": [
      "\u001b[0;31m---------------------------------------------------------------------------\u001b[0m",
      "\u001b[0;31mNameError\u001b[0m                                 Traceback (most recent call last)",
      "\u001b[0;32m/var/folders/92/ky559sqj6k57cprgfnv1vcvw0000gn/T/ipykernel_8317/3444481026.py\u001b[0m in \u001b[0;36m<module>\u001b[0;34m\u001b[0m\n\u001b[1;32m      1\u001b[0m \u001b[0mtokenizer\u001b[0m\u001b[0;34m.\u001b[0m\u001b[0mpad_token\u001b[0m \u001b[0;34m=\u001b[0m \u001b[0mtokenizer\u001b[0m\u001b[0;34m.\u001b[0m\u001b[0meos_token\u001b[0m\u001b[0;34m\u001b[0m\u001b[0;34m\u001b[0m\u001b[0m\n\u001b[0;32m----> 2\u001b[0;31m tokenized_training_data = training_data.map(\n\u001b[0m\u001b[1;32m      3\u001b[0m     \u001b[0;32mlambda\u001b[0m \u001b[0mx\u001b[0m\u001b[0;34m:\u001b[0m \u001b[0mtokenizer\u001b[0m\u001b[0;34m(\u001b[0m\u001b[0mx\u001b[0m\u001b[0;34m[\u001b[0m\u001b[0;34m'text'\u001b[0m\u001b[0;34m]\u001b[0m\u001b[0;34m)\u001b[0m\u001b[0;34m,\u001b[0m\u001b[0;34m\u001b[0m\u001b[0;34m\u001b[0m\u001b[0m\n\u001b[1;32m      4\u001b[0m     \u001b[0mremove_columns\u001b[0m\u001b[0;34m=\u001b[0m\u001b[0;34m[\u001b[0m\u001b[0;34m\"text\"\u001b[0m\u001b[0;34m]\u001b[0m\u001b[0;34m\u001b[0m\u001b[0;34m\u001b[0m\u001b[0m\n\u001b[1;32m      5\u001b[0m )\n",
      "\u001b[0;31mNameError\u001b[0m: name 'training_data' is not defined"
     ]
    }
   ],
   "source": [
    "tokenizer.pad_token = tokenizer.eos_token\n",
    "tokenized_training_data = training_data.map(\n",
    "    lambda x: tokenizer(x['text']),\n",
    "    remove_columns=[\"text\"]\n",
    ")"
   ]
  },
  {
   "cell_type": "markdown",
   "id": "ea41f005",
   "metadata": {},
   "source": [
    "Then we break the tokenized text up into batches of tokens:"
   ]
  },
  {
   "cell_type": "code",
   "execution_count": 87,
   "id": "595b9bf0",
   "metadata": {},
   "outputs": [
    {
     "ename": "NameError",
     "evalue": "name 'tokenized_training_data' is not defined",
     "output_type": "error",
     "traceback": [
      "\u001b[0;31m---------------------------------------------------------------------------\u001b[0m",
      "\u001b[0;31mNameError\u001b[0m                                 Traceback (most recent call last)",
      "\u001b[0;32m/var/folders/92/ky559sqj6k57cprgfnv1vcvw0000gn/T/ipykernel_8317/106196305.py\u001b[0m in \u001b[0;36m<module>\u001b[0;34m\u001b[0m\n\u001b[1;32m     11\u001b[0m     \u001b[0mresult\u001b[0m\u001b[0;34m[\u001b[0m\u001b[0;34m\"labels\"\u001b[0m\u001b[0;34m]\u001b[0m \u001b[0;34m=\u001b[0m \u001b[0mresult\u001b[0m\u001b[0;34m[\u001b[0m\u001b[0;34m\"input_ids\"\u001b[0m\u001b[0;34m]\u001b[0m\u001b[0;34m.\u001b[0m\u001b[0mcopy\u001b[0m\u001b[0;34m(\u001b[0m\u001b[0;34m)\u001b[0m\u001b[0;34m\u001b[0m\u001b[0;34m\u001b[0m\u001b[0m\n\u001b[1;32m     12\u001b[0m     \u001b[0;32mreturn\u001b[0m \u001b[0mresult\u001b[0m\u001b[0;34m\u001b[0m\u001b[0;34m\u001b[0m\u001b[0m\n\u001b[0;32m---> 13\u001b[0;31m lm_training_data = tokenized_training_data.map(\n\u001b[0m\u001b[1;32m     14\u001b[0m     \u001b[0mgroup_texts\u001b[0m\u001b[0;34m,\u001b[0m\u001b[0;34m\u001b[0m\u001b[0;34m\u001b[0m\u001b[0m\n\u001b[1;32m     15\u001b[0m     \u001b[0mbatched\u001b[0m\u001b[0;34m=\u001b[0m\u001b[0;32mTrue\u001b[0m\u001b[0;34m,\u001b[0m\u001b[0;34m\u001b[0m\u001b[0;34m\u001b[0m\u001b[0m\n",
      "\u001b[0;31mNameError\u001b[0m: name 'tokenized_training_data' is not defined"
     ]
    }
   ],
   "source": [
    "block_size = 64\n",
    "# magic from https://github.com/huggingface/notebooks/blob/master/examples/language_modeling.ipynb\n",
    "def group_texts(examples):\n",
    "    concatenated_examples = {k: sum(examples[k], []) for k in examples.keys()}\n",
    "    total_length = len(concatenated_examples[list(examples.keys())[0]])\n",
    "    total_length = (total_length // block_size) * block_size\n",
    "    result = {\n",
    "        k: [t[i : i + block_size] for i in range(0, total_length, block_size)]\n",
    "        for k, t in concatenated_examples.items()\n",
    "    }\n",
    "    result[\"labels\"] = result[\"input_ids\"].copy()\n",
    "    return result\n",
    "lm_training_data = tokenized_training_data.map(\n",
    "    group_texts,\n",
    "    batched=True,\n",
    "    batch_size=200\n",
    ")"
   ]
  },
  {
   "cell_type": "markdown",
   "id": "5e522074",
   "metadata": {},
   "source": [
    "Now we import the `Trainer` class, which implements a training loop."
   ]
  },
  {
   "cell_type": "code",
   "execution_count": null,
   "id": "eee70cb2",
   "metadata": {},
   "outputs": [],
   "source": [
    "from transformers import Trainer, TrainingArguments"
   ]
  },
  {
   "cell_type": "markdown",
   "id": "a12058c0",
   "metadata": {},
   "source": [
    "Running the following cell creates the `Trainer` object. The `output_dir` parameter specifies a directory where your fine-tuned model will be saved. The `num_train_epochs` sets how many \"epochs\" the trainer will run; one epoch is one iteration over the entire dataset. More epochs is better, but even one epoch can significantly change the way the model generates text."
   ]
  },
  {
   "cell_type": "code",
   "execution_count": null,
   "id": "6d5359f1",
   "metadata": {},
   "outputs": [],
   "source": [
    "trainer = Trainer(model=model,\n",
    "                  train_dataset=lm_training_data['train'],\n",
    "                  args=TrainingArguments(\n",
    "                      output_dir='distilgpt2-finetune-frankenstein20k',\n",
    "                      num_train_epochs=1,\n",
    "                      do_train=True,\n",
    "                      do_eval=False\n",
    "                  ),\n",
    "                  tokenizer=tokenizer)"
   ]
  },
  {
   "cell_type": "markdown",
   "id": "22076634",
   "metadata": {},
   "source": [
    "Finally, the cell below will start the training process. If you're running this on a computer without a GPU, it will take a while. You can open this notebook on [Google Colab](http://colab.research.google.com/) if you want and take advantage of the free GPU that Google lets you use."
   ]
  },
  {
   "cell_type": "code",
   "execution_count": null,
   "id": "a0a974bb",
   "metadata": {
    "scrolled": false
   },
   "outputs": [],
   "source": [
    "trainer.train()"
   ]
  },
  {
   "cell_type": "markdown",
   "id": "bda411f7",
   "metadata": {},
   "source": [
    "Running the cell below will save the model to disk:"
   ]
  },
  {
   "cell_type": "code",
   "execution_count": null,
   "id": "f18e00fe",
   "metadata": {},
   "outputs": [],
   "source": [
    "trainer.save_model()"
   ]
  },
  {
   "cell_type": "markdown",
   "id": "474a59af",
   "metadata": {},
   "source": [
    "Now you can generate with the fine-tuned model! The fine-tuning process modifies the model in-place, so the `pipeline` you created before will make use of the fine-tuned model. (Note that if you want to get the original `distilgpt2` back, you'll need to reload it with the `.from_pretrained()` method, as demonstrated at the top of the notebook.)"
   ]
  },
  {
   "cell_type": "code",
   "execution_count": null,
   "id": "6f7769a0",
   "metadata": {},
   "outputs": [],
   "source": [
    "generator(\"Two roads diverged in a yellow\", max_length=100)[0]['generated_text']"
   ]
  },
  {
   "cell_type": "markdown",
   "id": "798333f5",
   "metadata": {},
   "source": [
    "You can see that fine-tuning on even a small dataset produces big changes in the model.\n",
    "\n",
    "If you want to use your fine-tuned model in another project, use the same syntax that we used above to load `distilgpt2`—just replace `distilgpt2` with the name of the directory where you saved your model:"
   ]
  },
  {
   "cell_type": "code",
   "execution_count": 88,
   "id": "ed9960c9",
   "metadata": {},
   "outputs": [
    {
     "ename": "OSError",
     "evalue": "distilgpt2-finetune-frankenstein20k is not a local folder and is not a valid model identifier listed on 'https://huggingface.co/models'\nIf this is a private repository, make sure to pass a token having permission to this repo with `use_auth_token` or log in with `huggingface-cli login` and pass `use_auth_token=True`.",
     "output_type": "error",
     "traceback": [
      "\u001b[0;31m---------------------------------------------------------------------------\u001b[0m",
      "\u001b[0;31mHTTPError\u001b[0m                                 Traceback (most recent call last)",
      "\u001b[0;32m~/opt/anaconda3/lib/python3.9/site-packages/huggingface_hub/utils/_errors.py\u001b[0m in \u001b[0;36mhf_raise_for_status\u001b[0;34m(response, endpoint_name)\u001b[0m\n\u001b[1;32m    258\u001b[0m     \u001b[0;32mtry\u001b[0m\u001b[0;34m:\u001b[0m\u001b[0;34m\u001b[0m\u001b[0;34m\u001b[0m\u001b[0m\n\u001b[0;32m--> 259\u001b[0;31m         \u001b[0mresponse\u001b[0m\u001b[0;34m.\u001b[0m\u001b[0mraise_for_status\u001b[0m\u001b[0;34m(\u001b[0m\u001b[0;34m)\u001b[0m\u001b[0;34m\u001b[0m\u001b[0;34m\u001b[0m\u001b[0m\n\u001b[0m\u001b[1;32m    260\u001b[0m     \u001b[0;32mexcept\u001b[0m \u001b[0mHTTPError\u001b[0m \u001b[0;32mas\u001b[0m \u001b[0me\u001b[0m\u001b[0;34m:\u001b[0m\u001b[0;34m\u001b[0m\u001b[0;34m\u001b[0m\u001b[0m\n",
      "\u001b[0;32m~/opt/anaconda3/lib/python3.9/site-packages/requests/models.py\u001b[0m in \u001b[0;36mraise_for_status\u001b[0;34m(self)\u001b[0m\n\u001b[1;32m   1020\u001b[0m         \u001b[0;32mif\u001b[0m \u001b[0mhttp_error_msg\u001b[0m\u001b[0;34m:\u001b[0m\u001b[0;34m\u001b[0m\u001b[0;34m\u001b[0m\u001b[0m\n\u001b[0;32m-> 1021\u001b[0;31m             \u001b[0;32mraise\u001b[0m \u001b[0mHTTPError\u001b[0m\u001b[0;34m(\u001b[0m\u001b[0mhttp_error_msg\u001b[0m\u001b[0;34m,\u001b[0m \u001b[0mresponse\u001b[0m\u001b[0;34m=\u001b[0m\u001b[0mself\u001b[0m\u001b[0;34m)\u001b[0m\u001b[0;34m\u001b[0m\u001b[0;34m\u001b[0m\u001b[0m\n\u001b[0m\u001b[1;32m   1022\u001b[0m \u001b[0;34m\u001b[0m\u001b[0m\n",
      "\u001b[0;31mHTTPError\u001b[0m: 401 Client Error: Unauthorized for url: https://huggingface.co/distilgpt2-finetune-frankenstein20k/resolve/main/tokenizer_config.json",
      "\nThe above exception was the direct cause of the following exception:\n",
      "\u001b[0;31mRepositoryNotFoundError\u001b[0m                   Traceback (most recent call last)",
      "\u001b[0;32m~/opt/anaconda3/lib/python3.9/site-packages/transformers/utils/hub.py\u001b[0m in \u001b[0;36mcached_file\u001b[0;34m(path_or_repo_id, filename, cache_dir, force_download, resume_download, proxies, use_auth_token, revision, local_files_only, subfolder, user_agent, _raise_exceptions_for_missing_entries, _raise_exceptions_for_connection_errors, _commit_hash)\u001b[0m\n\u001b[1;32m    408\u001b[0m         \u001b[0;31m# Load from URL or cache if already cached\u001b[0m\u001b[0;34m\u001b[0m\u001b[0;34m\u001b[0m\u001b[0m\n\u001b[0;32m--> 409\u001b[0;31m         resolved_file = hf_hub_download(\n\u001b[0m\u001b[1;32m    410\u001b[0m             \u001b[0mpath_or_repo_id\u001b[0m\u001b[0;34m,\u001b[0m\u001b[0;34m\u001b[0m\u001b[0;34m\u001b[0m\u001b[0m\n",
      "\u001b[0;32m~/opt/anaconda3/lib/python3.9/site-packages/huggingface_hub/utils/_validators.py\u001b[0m in \u001b[0;36m_inner_fn\u001b[0;34m(*args, **kwargs)\u001b[0m\n\u001b[1;32m    119\u001b[0m \u001b[0;34m\u001b[0m\u001b[0m\n\u001b[0;32m--> 120\u001b[0;31m         \u001b[0;32mreturn\u001b[0m \u001b[0mfn\u001b[0m\u001b[0;34m(\u001b[0m\u001b[0;34m*\u001b[0m\u001b[0margs\u001b[0m\u001b[0;34m,\u001b[0m \u001b[0;34m**\u001b[0m\u001b[0mkwargs\u001b[0m\u001b[0;34m)\u001b[0m\u001b[0;34m\u001b[0m\u001b[0;34m\u001b[0m\u001b[0m\n\u001b[0m\u001b[1;32m    121\u001b[0m \u001b[0;34m\u001b[0m\u001b[0m\n",
      "\u001b[0;32m~/opt/anaconda3/lib/python3.9/site-packages/huggingface_hub/file_download.py\u001b[0m in \u001b[0;36mhf_hub_download\u001b[0;34m(repo_id, filename, subfolder, repo_type, revision, library_name, library_version, cache_dir, local_dir, local_dir_use_symlinks, user_agent, force_download, force_filename, proxies, etag_timeout, resume_download, token, local_files_only, legacy_cache_layout)\u001b[0m\n\u001b[1;32m   1159\u001b[0m             \u001b[0;32mtry\u001b[0m\u001b[0;34m:\u001b[0m\u001b[0;34m\u001b[0m\u001b[0;34m\u001b[0m\u001b[0m\n\u001b[0;32m-> 1160\u001b[0;31m                 metadata = get_hf_file_metadata(\n\u001b[0m\u001b[1;32m   1161\u001b[0m                     \u001b[0murl\u001b[0m\u001b[0;34m=\u001b[0m\u001b[0murl\u001b[0m\u001b[0;34m,\u001b[0m\u001b[0;34m\u001b[0m\u001b[0;34m\u001b[0m\u001b[0m\n",
      "\u001b[0;32m~/opt/anaconda3/lib/python3.9/site-packages/huggingface_hub/utils/_validators.py\u001b[0m in \u001b[0;36m_inner_fn\u001b[0;34m(*args, **kwargs)\u001b[0m\n\u001b[1;32m    119\u001b[0m \u001b[0;34m\u001b[0m\u001b[0m\n\u001b[0;32m--> 120\u001b[0;31m         \u001b[0;32mreturn\u001b[0m \u001b[0mfn\u001b[0m\u001b[0;34m(\u001b[0m\u001b[0;34m*\u001b[0m\u001b[0margs\u001b[0m\u001b[0;34m,\u001b[0m \u001b[0;34m**\u001b[0m\u001b[0mkwargs\u001b[0m\u001b[0;34m)\u001b[0m\u001b[0;34m\u001b[0m\u001b[0;34m\u001b[0m\u001b[0m\n\u001b[0m\u001b[1;32m    121\u001b[0m \u001b[0;34m\u001b[0m\u001b[0m\n",
      "\u001b[0;32m~/opt/anaconda3/lib/python3.9/site-packages/huggingface_hub/file_download.py\u001b[0m in \u001b[0;36mget_hf_file_metadata\u001b[0;34m(url, token, proxies, timeout)\u001b[0m\n\u001b[1;32m   1500\u001b[0m     )\n\u001b[0;32m-> 1501\u001b[0;31m     \u001b[0mhf_raise_for_status\u001b[0m\u001b[0;34m(\u001b[0m\u001b[0mr\u001b[0m\u001b[0;34m)\u001b[0m\u001b[0;34m\u001b[0m\u001b[0;34m\u001b[0m\u001b[0m\n\u001b[0m\u001b[1;32m   1502\u001b[0m \u001b[0;34m\u001b[0m\u001b[0m\n",
      "\u001b[0;32m~/opt/anaconda3/lib/python3.9/site-packages/huggingface_hub/utils/_errors.py\u001b[0m in \u001b[0;36mhf_raise_for_status\u001b[0;34m(response, endpoint_name)\u001b[0m\n\u001b[1;32m    290\u001b[0m             )\n\u001b[0;32m--> 291\u001b[0;31m             \u001b[0;32mraise\u001b[0m \u001b[0mRepositoryNotFoundError\u001b[0m\u001b[0;34m(\u001b[0m\u001b[0mmessage\u001b[0m\u001b[0;34m,\u001b[0m \u001b[0mresponse\u001b[0m\u001b[0;34m)\u001b[0m \u001b[0;32mfrom\u001b[0m \u001b[0me\u001b[0m\u001b[0;34m\u001b[0m\u001b[0;34m\u001b[0m\u001b[0m\n\u001b[0m\u001b[1;32m    292\u001b[0m \u001b[0;34m\u001b[0m\u001b[0m\n",
      "\u001b[0;31mRepositoryNotFoundError\u001b[0m: 401 Client Error. (Request ID: Root=1-642eb981-361d56575907f8e764f71580)\n\nRepository Not Found for url: https://huggingface.co/distilgpt2-finetune-frankenstein20k/resolve/main/tokenizer_config.json.\nPlease make sure you specified the correct `repo_id` and `repo_type`.\nIf you are trying to access a private or gated repo, make sure you are authenticated.\nInvalid username or password.",
      "\nDuring handling of the above exception, another exception occurred:\n",
      "\u001b[0;31mOSError\u001b[0m                                   Traceback (most recent call last)",
      "\u001b[0;32m/var/folders/92/ky559sqj6k57cprgfnv1vcvw0000gn/T/ipykernel_8317/97766461.py\u001b[0m in \u001b[0;36m<module>\u001b[0;34m\u001b[0m\n\u001b[0;32m----> 1\u001b[0;31m \u001b[0mmy_tokenizer\u001b[0m \u001b[0;34m=\u001b[0m \u001b[0mAutoTokenizer\u001b[0m\u001b[0;34m.\u001b[0m\u001b[0mfrom_pretrained\u001b[0m\u001b[0;34m(\u001b[0m\u001b[0;34m'distilgpt2-finetune-frankenstein20k'\u001b[0m\u001b[0;34m)\u001b[0m\u001b[0;34m\u001b[0m\u001b[0;34m\u001b[0m\u001b[0m\n\u001b[0m\u001b[1;32m      2\u001b[0m \u001b[0mmy_model\u001b[0m \u001b[0;34m=\u001b[0m \u001b[0mAutoModelForCausalLM\u001b[0m\u001b[0;34m.\u001b[0m\u001b[0mfrom_pretrained\u001b[0m\u001b[0;34m(\u001b[0m\u001b[0;34m'distilgpt2-finetune-frankenstein20k'\u001b[0m\u001b[0;34m)\u001b[0m\u001b[0;34m\u001b[0m\u001b[0;34m\u001b[0m\u001b[0m\n",
      "\u001b[0;32m~/opt/anaconda3/lib/python3.9/site-packages/transformers/models/auto/tokenization_auto.py\u001b[0m in \u001b[0;36mfrom_pretrained\u001b[0;34m(cls, pretrained_model_name_or_path, *inputs, **kwargs)\u001b[0m\n\u001b[1;32m    617\u001b[0m \u001b[0;34m\u001b[0m\u001b[0m\n\u001b[1;32m    618\u001b[0m         \u001b[0;31m# Next, let's try to use the tokenizer_config file to get the tokenizer class.\u001b[0m\u001b[0;34m\u001b[0m\u001b[0;34m\u001b[0m\u001b[0m\n\u001b[0;32m--> 619\u001b[0;31m         \u001b[0mtokenizer_config\u001b[0m \u001b[0;34m=\u001b[0m \u001b[0mget_tokenizer_config\u001b[0m\u001b[0;34m(\u001b[0m\u001b[0mpretrained_model_name_or_path\u001b[0m\u001b[0;34m,\u001b[0m \u001b[0;34m**\u001b[0m\u001b[0mkwargs\u001b[0m\u001b[0;34m)\u001b[0m\u001b[0;34m\u001b[0m\u001b[0;34m\u001b[0m\u001b[0m\n\u001b[0m\u001b[1;32m    620\u001b[0m         \u001b[0;32mif\u001b[0m \u001b[0;34m\"_commit_hash\"\u001b[0m \u001b[0;32min\u001b[0m \u001b[0mtokenizer_config\u001b[0m\u001b[0;34m:\u001b[0m\u001b[0;34m\u001b[0m\u001b[0;34m\u001b[0m\u001b[0m\n\u001b[1;32m    621\u001b[0m             \u001b[0mkwargs\u001b[0m\u001b[0;34m[\u001b[0m\u001b[0;34m\"_commit_hash\"\u001b[0m\u001b[0;34m]\u001b[0m \u001b[0;34m=\u001b[0m \u001b[0mtokenizer_config\u001b[0m\u001b[0;34m[\u001b[0m\u001b[0;34m\"_commit_hash\"\u001b[0m\u001b[0;34m]\u001b[0m\u001b[0;34m\u001b[0m\u001b[0;34m\u001b[0m\u001b[0m\n",
      "\u001b[0;32m~/opt/anaconda3/lib/python3.9/site-packages/transformers/models/auto/tokenization_auto.py\u001b[0m in \u001b[0;36mget_tokenizer_config\u001b[0;34m(pretrained_model_name_or_path, cache_dir, force_download, resume_download, proxies, use_auth_token, revision, local_files_only, subfolder, **kwargs)\u001b[0m\n\u001b[1;32m    461\u001b[0m     ```\"\"\"\n\u001b[1;32m    462\u001b[0m     \u001b[0mcommit_hash\u001b[0m \u001b[0;34m=\u001b[0m \u001b[0mkwargs\u001b[0m\u001b[0;34m.\u001b[0m\u001b[0mget\u001b[0m\u001b[0;34m(\u001b[0m\u001b[0;34m\"_commit_hash\"\u001b[0m\u001b[0;34m,\u001b[0m \u001b[0;32mNone\u001b[0m\u001b[0;34m)\u001b[0m\u001b[0;34m\u001b[0m\u001b[0;34m\u001b[0m\u001b[0m\n\u001b[0;32m--> 463\u001b[0;31m     resolved_config_file = cached_file(\n\u001b[0m\u001b[1;32m    464\u001b[0m         \u001b[0mpretrained_model_name_or_path\u001b[0m\u001b[0;34m,\u001b[0m\u001b[0;34m\u001b[0m\u001b[0;34m\u001b[0m\u001b[0m\n\u001b[1;32m    465\u001b[0m         \u001b[0mTOKENIZER_CONFIG_FILE\u001b[0m\u001b[0;34m,\u001b[0m\u001b[0;34m\u001b[0m\u001b[0;34m\u001b[0m\u001b[0m\n",
      "\u001b[0;32m~/opt/anaconda3/lib/python3.9/site-packages/transformers/utils/hub.py\u001b[0m in \u001b[0;36mcached_file\u001b[0;34m(path_or_repo_id, filename, cache_dir, force_download, resume_download, proxies, use_auth_token, revision, local_files_only, subfolder, user_agent, _raise_exceptions_for_missing_entries, _raise_exceptions_for_connection_errors, _commit_hash)\u001b[0m\n\u001b[1;32m    422\u001b[0m \u001b[0;34m\u001b[0m\u001b[0m\n\u001b[1;32m    423\u001b[0m     \u001b[0;32mexcept\u001b[0m \u001b[0mRepositoryNotFoundError\u001b[0m\u001b[0;34m:\u001b[0m\u001b[0;34m\u001b[0m\u001b[0;34m\u001b[0m\u001b[0m\n\u001b[0;32m--> 424\u001b[0;31m         raise EnvironmentError(\n\u001b[0m\u001b[1;32m    425\u001b[0m             \u001b[0;34mf\"{path_or_repo_id} is not a local folder and is not a valid model identifier \"\u001b[0m\u001b[0;34m\u001b[0m\u001b[0;34m\u001b[0m\u001b[0m\n\u001b[1;32m    426\u001b[0m             \u001b[0;34m\"listed on 'https://huggingface.co/models'\\nIf this is a private repository, make sure to \"\u001b[0m\u001b[0;34m\u001b[0m\u001b[0;34m\u001b[0m\u001b[0m\n",
      "\u001b[0;31mOSError\u001b[0m: distilgpt2-finetune-frankenstein20k is not a local folder and is not a valid model identifier listed on 'https://huggingface.co/models'\nIf this is a private repository, make sure to pass a token having permission to this repo with `use_auth_token` or log in with `huggingface-cli login` and pass `use_auth_token=True`."
     ]
    }
   ],
   "source": [
    "my_tokenizer = AutoTokenizer.from_pretrained('distilgpt2-finetune-frankenstein20k')\n",
    "my_model = AutoModelForCausalLM.from_pretrained('distilgpt2-finetune-frankenstein20k')"
   ]
  },
  {
   "cell_type": "markdown",
   "id": "4c62d434",
   "metadata": {},
   "source": [
    "Now generate with it:"
   ]
  },
  {
   "cell_type": "code",
   "execution_count": null,
   "id": "201ab0c9",
   "metadata": {},
   "outputs": [],
   "source": [
    "my_generator = pipeline(\"text-generation\", model=my_model, tokenizer=my_tokenizer)"
   ]
  },
  {
   "cell_type": "code",
   "execution_count": null,
   "id": "8de43360",
   "metadata": {},
   "outputs": [],
   "source": [
    "my_generator(\"Two roads diverged in a yellow\")[0]['generated_text']"
   ]
  }
 ],
 "metadata": {
  "kernelspec": {
   "display_name": "Python 3 (ipykernel)",
   "language": "python",
   "name": "python3"
  },
  "language_info": {
   "codemirror_mode": {
    "name": "ipython",
    "version": 3
   },
   "file_extension": ".py",
   "mimetype": "text/x-python",
   "name": "python",
   "nbconvert_exporter": "python",
   "pygments_lexer": "ipython3",
   "version": "3.9.13"
  }
 },
 "nbformat": 4,
 "nbformat_minor": 5
}

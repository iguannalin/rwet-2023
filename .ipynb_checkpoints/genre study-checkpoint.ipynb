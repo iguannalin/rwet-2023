{
 "cells": [
  {
   "cell_type": "markdown",
   "id": "1ac07509",
   "metadata": {},
   "source": [
    "# Genre study\n",
    "by anna lin"
   ]
  },
  {
   "cell_type": "code",
   "execution_count": 1,
   "id": "8e8214ad",
   "metadata": {},
   "outputs": [
    {
     "name": "stdout",
     "output_type": "stream",
     "text": [
      "Requirement already satisfied: yt-dlp in /Users/annaaa/opt/anaconda3/lib/python3.9/site-packages (2023.2.17)\n",
      "Requirement already satisfied: mutagen in /Users/annaaa/opt/anaconda3/lib/python3.9/site-packages (from yt-dlp) (1.46.0)\n",
      "Requirement already satisfied: websockets in /Users/annaaa/opt/anaconda3/lib/python3.9/site-packages (from yt-dlp) (10.4)\n",
      "Requirement already satisfied: pycryptodomex in /Users/annaaa/opt/anaconda3/lib/python3.9/site-packages (from yt-dlp) (3.17)\n",
      "Requirement already satisfied: certifi in /Users/annaaa/opt/anaconda3/lib/python3.9/site-packages (from yt-dlp) (2022.9.24)\n",
      "Requirement already satisfied: brotli in /Users/annaaa/opt/anaconda3/lib/python3.9/site-packages (from yt-dlp) (1.0.9)\n",
      "Note: you may need to restart the kernel to use updated packages.\n"
     ]
    }
   ],
   "source": [
    "pip install -U yt-dlp"
   ]
  },
  {
   "cell_type": "code",
   "execution_count": 2,
   "id": "cba1d986",
   "metadata": {},
   "outputs": [],
   "source": [
    "import yt_dlp"
   ]
  },
  {
   "cell_type": "code",
   "execution_count": 3,
   "id": "0fd95254",
   "metadata": {},
   "outputs": [
    {
     "name": "stdout",
     "output_type": "stream",
     "text": [
      "[youtube] Extracting URL: https://www.youtube.com/watch?v=fse321holhI&t=9s\n",
      "[youtube] fse321holhI: Downloading webpage\n",
      "[youtube] fse321holhI: Downloading android player API JSON\n",
      "[info] fse321holhI: Downloading subtitles: en\n",
      "[info] fse321holhI: Downloading 1 format(s): 22\n",
      "Deleting existing file david.en.vtt\n",
      "[info] Writing video subtitles to: david.en.vtt\n",
      "[download] Destination: david.en.vtt\n",
      "[download] 100% of  193.58KiB in 00:00:00 at 546.81KiB/s\n",
      "[download] david.mp4 has already been downloaded\n",
      "[download] 100% of  247.77MiB\n"
     ]
    }
   ],
   "source": [
    "from yt_dlp import YoutubeDL\n",
    "\n",
    "URLS = [\"https://www.youtube.com/watch?v=fse321holhI&t=9s\"]\n",
    "ydl_opts = {\"outtmpl\": \"david.mp4\", \"writeautomaticsub\": True}\n",
    "with yt_dlp.YoutubeDL(ydl_opts) as ydl:\n",
    "    ydl.download(URLS)"
   ]
  },
  {
   "cell_type": "code",
   "execution_count": 4,
   "id": "274cdde2",
   "metadata": {},
   "outputs": [
    {
     "name": "stdout",
     "output_type": "stream",
     "text": [
      "Requirement already satisfied: videogrep in /Users/annaaa/opt/anaconda3/lib/python3.9/site-packages (2.1.2)\n",
      "Requirement already satisfied: moviepy<2.0.0,>=1.0.3 in /Users/annaaa/opt/anaconda3/lib/python3.9/site-packages (from videogrep) (1.0.3)\n",
      "Requirement already satisfied: beautifulsoup4<5.0.0,>=4.11.1 in /Users/annaaa/opt/anaconda3/lib/python3.9/site-packages (from videogrep) (4.11.1)\n",
      "Requirement already satisfied: soupsieve>1.2 in /Users/annaaa/opt/anaconda3/lib/python3.9/site-packages (from beautifulsoup4<5.0.0,>=4.11.1->videogrep) (2.3.1)\n",
      "Requirement already satisfied: tqdm<5.0,>=4.11.2 in /Users/annaaa/opt/anaconda3/lib/python3.9/site-packages (from moviepy<2.0.0,>=1.0.3->videogrep) (4.64.1)\n",
      "Requirement already satisfied: requests<3.0,>=2.8.1 in /Users/annaaa/opt/anaconda3/lib/python3.9/site-packages (from moviepy<2.0.0,>=1.0.3->videogrep) (2.28.1)\n",
      "Requirement already satisfied: proglog<=1.0.0 in /Users/annaaa/opt/anaconda3/lib/python3.9/site-packages (from moviepy<2.0.0,>=1.0.3->videogrep) (0.1.10)\n",
      "Requirement already satisfied: imageio<3.0,>=2.5 in /Users/annaaa/opt/anaconda3/lib/python3.9/site-packages (from moviepy<2.0.0,>=1.0.3->videogrep) (2.19.3)\n",
      "Requirement already satisfied: numpy in /Users/annaaa/opt/anaconda3/lib/python3.9/site-packages (from moviepy<2.0.0,>=1.0.3->videogrep) (1.21.5)\n",
      "Requirement already satisfied: decorator<5.0,>=4.0.2 in /Users/annaaa/opt/anaconda3/lib/python3.9/site-packages (from moviepy<2.0.0,>=1.0.3->videogrep) (4.4.2)\n",
      "Requirement already satisfied: imageio-ffmpeg>=0.2.0 in /Users/annaaa/opt/anaconda3/lib/python3.9/site-packages (from moviepy<2.0.0,>=1.0.3->videogrep) (0.4.8)\n",
      "Requirement already satisfied: pillow>=8.3.2 in /Users/annaaa/opt/anaconda3/lib/python3.9/site-packages (from imageio<3.0,>=2.5->moviepy<2.0.0,>=1.0.3->videogrep) (9.2.0)\n",
      "Requirement already satisfied: charset-normalizer<3,>=2 in /Users/annaaa/opt/anaconda3/lib/python3.9/site-packages (from requests<3.0,>=2.8.1->moviepy<2.0.0,>=1.0.3->videogrep) (2.0.4)\n",
      "Requirement already satisfied: urllib3<1.27,>=1.21.1 in /Users/annaaa/opt/anaconda3/lib/python3.9/site-packages (from requests<3.0,>=2.8.1->moviepy<2.0.0,>=1.0.3->videogrep) (1.26.11)\n",
      "Requirement already satisfied: idna<4,>=2.5 in /Users/annaaa/opt/anaconda3/lib/python3.9/site-packages (from requests<3.0,>=2.8.1->moviepy<2.0.0,>=1.0.3->videogrep) (3.3)\n",
      "Requirement already satisfied: certifi>=2017.4.17 in /Users/annaaa/opt/anaconda3/lib/python3.9/site-packages (from requests<3.0,>=2.8.1->moviepy<2.0.0,>=1.0.3->videogrep) (2022.9.24)\n",
      "Note: you may need to restart the kernel to use updated packages.\n"
     ]
    }
   ],
   "source": [
    "pip install videogrep"
   ]
  },
  {
   "cell_type": "code",
   "execution_count": 8,
   "id": "6b105dba",
   "metadata": {},
   "outputs": [
    {
     "name": "stdout",
     "output_type": "stream",
     "text": [
      "[+] Creating clips.\n",
      "[+] Concatenating clips.\n",
      "[+] Writing ouput file.\n",
      "Moviepy - Building video supercut.mp4.\n",
      "MoviePy - Writing audio in temp-audio1677764708.851816.m4a\n"
     ]
    },
    {
     "name": "stderr",
     "output_type": "stream",
     "text": [
      "                                                                                \r"
     ]
    },
    {
     "name": "stdout",
     "output_type": "stream",
     "text": [
      "MoviePy - Done.\n",
      "Moviepy - Writing video supercut.mp4\n",
      "\n"
     ]
    },
    {
     "name": "stderr",
     "output_type": "stream",
     "text": [
      "                                                                                \r"
     ]
    },
    {
     "name": "stdout",
     "output_type": "stream",
     "text": [
      "Moviepy - Done !\n",
      "Moviepy - video ready supercut.mp4\n"
     ]
    }
   ],
   "source": [
    "from videogrep import videogrep\n",
    "\n",
    "videogrep('david.mp4', 'Earth', 'sentence')"
   ]
  },
  {
   "cell_type": "code",
   "execution_count": 14,
   "id": "5e3e6546",
   "metadata": {},
   "outputs": [],
   "source": [
    "objects = [\n",
    "    \"coral reefs \",\n",
    "    \"gray reef sharks\",\n",
    "    \"reef sharks \",\n",
    "        \"the seaweed The\",\n",
    "        \"fish to the\",\n",
    "    \"health of coral\",\n",
    "    \"of coral reefs\",\n",
    "        \"climate change \",\n",
    "        \"food and shelter\",\n",
    "    \" Sea otters\",\n",
    "    \" Sea lions\",\n",
    "     \"moon  For\",\n",
    "]\n",
    "transitions = [\n",
    "    \" But the\",\n",
    "    \"one of the\",\n",
    "    \"a tenth of\",\n",
    "    \"reach of the\",\n",
    "        \"a quarter of\",\n",
    "    \"and most of\",\n",
    "    \"most of them\",\n",
    "    \" Here at\",\n",
    "    \"Here at least\",\n",
    "    \"reefs around the\",\n",
    "    \"most of their\",\n",
    "        \"provides food and\",\n",
    "    \"in this way\",\n",
    "    \"beautiful  but\",\n",
    "    \" but if\",\n",
    "    \"a lot of\",\n",
    "    \"and the rest\",\n",
    "    \"per day \",\n",
    "    \" Here it\",\n",
    "    \" It is\",\n",
    "    \"have gathered in\",\n",
    "    \" This is\",\n",
    "    \"is one of\",\n",
    "    \"of the few\",\n",
    "    \" If we\",\n",
    "    \"If we do\",\n",
    "    \"than there were\",\n",
    "    \"years ago \",\n",
    "    \"ago  we\",\n",
    "    \" we finally\",\n",
    "    \"we finally ventured\",\n",
    "    \"finally ventured to\",\n",
    "    \"ventured to the\",\n",
    "    \" For the\",\n",
    "    \"ever we're looking\",\n",
    "    \"we're looking at\",\n",
    "    \"looking at our\",\n",
    "    \"at our own\",\n",
    "    \"then the number\",\n",
    "    \"the number of\",\n",
    "    \"number of humans\",\n",
    "    \"of humans has\",\n",
    "    \"humans has more\",\n",
    "    \"has more than\"\n",
    "]\n",
    "time = [\n",
    "        \"in the past\",\n",
    "        \"50 years ago\",\n",
    "    \"For the first\",\n",
    "    \"the first time\",\n",
    "    \"first time ever\",\n",
    "    \"time ever we're\",\n",
    "        \"planet  Since\",\n",
    "    \" Since then\",\n",
    "    \"Since then the\",\n",
    "       \"the past \",\n",
    "    \"past  This\",\n",
    "]\n",
    "places = [\n",
    "    \"to the surface\",\n",
    "    \"the sea floor\",\n",
    "    \"the health of\",\n",
    "    \"around the world\",\n",
    "    \"the world \",\n",
    "    \"of our seas\",\n",
    "    \"our shallow seas\",\n",
    "    \"shallow seas \",\n",
    "    \"coasts of the\",\n",
    "    \"coastal waters \",\n",
    "    \"on land \",\n",
    "    \"the surface \",\n",
    "    \"the Great Barrier\",\n",
    "    \"Great Barrier Reef\",\n",
    "    \"of the seas\",\n",
    "    \"the seas \",\n",
    "    \"from the tropics\",\n",
    "    \"to the sea\",\n",
    "    \"the sea \",\n",
    "    \"the seagrass forest\",\n",
    "    \"on seaweed \",\n",
    "    \"the few places\",\n",
    "    \"in the world\",\n",
    "        \"the coasts of\",\n",
    "    \"to the moon\",\n",
    "    \"the moon \",\n",
    "    \"our own planet\",\n",
    "    \"own planet \"\n",
    "]"
   ]
  },
  {
   "cell_type": "code",
   "execution_count": 11,
   "id": "fe3e1ac0",
   "metadata": {},
   "outputs": [
    {
     "name": "stdout",
     "output_type": "stream",
     "text": [
      "Collecting tracery\n",
      "  Downloading tracery-0.1.1.tar.gz (8.1 kB)\n",
      "  Preparing metadata (setup.py) ... \u001b[?25ldone\n",
      "\u001b[?25hBuilding wheels for collected packages: tracery\n",
      "  Building wheel for tracery (setup.py) ... \u001b[?25ldone\n",
      "\u001b[?25h  Created wheel for tracery: filename=tracery-0.1.1-py3-none-any.whl size=7682 sha256=66d91beb0cc641a6b1e53304b29374af02f13ab4471c34f346e7507d9201c186\n",
      "  Stored in directory: /Users/annaaa/Library/Caches/pip/wheels/a3/74/46/553a949119086ada4c0ecf608890fb79513349b9057e514885\n",
      "Successfully built tracery\n",
      "Installing collected packages: tracery\n",
      "Successfully installed tracery-0.1.1\n"
     ]
    }
   ],
   "source": [
    "import sys\n",
    "!{sys.executable} -m pip install tracery"
   ]
  },
  {
   "cell_type": "code",
   "execution_count": 12,
   "id": "55b0438a",
   "metadata": {},
   "outputs": [],
   "source": [
    "import tracery"
   ]
  },
  {
   "cell_type": "code",
   "execution_count": 55,
   "id": "75f59bfb",
   "metadata": {},
   "outputs": [
    {
     "data": {
      "text/plain": [
       "\"time ever we're|If we do|our own planet|looking at our|fish to the Since then the|the number of|the health of|a tenth of| Sea otters in the past|and the rest|the coasts of|most of them|coral reefs the first time| But the|to the surface|beautiful  but| Sea lions For the first|Here at least|from the tropics|humans has more| Sea otters in the past|beautiful  but|the Great Barrier|of humans has|of coral reefspast  This|looking at our|on land |at our own|coral reefs  in the past|a quarter of|to the moon|we finally ventured|climate change  Since then the|has more than|the few places|we finally ventured|food and shelterSince then the|reefs around the|of our seas| But the|moon  For Since then the|looking at our|the few places|ago  we| Sea otters 50 years ago|have gathered in|on seaweed |we're looking at|coral reefs \""
      ]
     },
     "execution_count": 55,
     "metadata": {},
     "output_type": "execute_result"
    }
   ],
   "source": [
    "rules = {\n",
    "    \"origin\": \"#time#|#transitions#|#places#|#transitions#|#objects#\",\n",
    "    \"objects\": objects,\n",
    "    \"transitions\": transitions,\n",
    "    \"time\": time,\n",
    "    \"places\": places\n",
    "}\n",
    "grammar = tracery.Grammar(rules)\n",
    "grammar.flatten(\"#origin# #origin# #origin#\" + \\\n",
    "                \"#origin# #origin# #origin#\" + \\\n",
    "                \"#origin# #origin# #origin#\" + \\\n",
    "               \"#origin# #origin# #origin#\")"
   ]
  },
  {
   "cell_type": "code",
   "execution_count": 63,
   "id": "ec44db20",
   "metadata": {
    "scrolled": true
   },
   "outputs": [
    {
     "data": {
      "text/plain": [
       "'not|as|It|one|planet|her|than|corals| seaweed|first|out|one|Here|than|hunting|In| marine|corals|herring|prey|years|there|make|first|'"
      ]
     },
     "execution_count": 63,
     "metadata": {},
     "output_type": "execute_result"
    }
   ],
   "source": [
    "list = [\n",
    "    \"as\",\n",
    "    \"them\",\n",
    "    \"an\",\n",
    "    \"sea\",\n",
    "    \"seaweed\",\n",
    "    \"But\",\n",
    "    \"than\",\n",
    "    \"this\",\n",
    "    \"It\",\n",
    "    \"surface\",\n",
    "    \"not\",\n",
    "    \"very\",\n",
    "    \"fishing\",\n",
    "    \"seagrass\",\n",
    "    \"most\",\n",
    "    \"there\",\n",
    "    \"by\",\n",
    "    \"now\",\n",
    "    \"at\",\n",
    "    \"has\",\n",
    "    \"This\",\n",
    "    \"will\",\n",
    "    \"marine\",\n",
    "    \"but\",\n",
    "    \"few\",\n",
    "    \"were\",\n",
    "    \"numbers\",\n",
    "    \"reef\",\n",
    "    \"out\",\n",
    "    \"world\",\n",
    "    \"herring\",\n",
    "    \"first\",\n",
    "    \"time\",\n",
    "    \"like\",\n",
    "    \"coasts\",\n",
    "    \"up\",\n",
    "    \"dolphins\",\n",
    "    \"way\",\n",
    "    \"one\",\n",
    "    \"so\",\n",
    "    \"only\",\n",
    "    \"all\",\n",
    "    \"community\",\n",
    "    \"They\",\n",
    "    \"today\",\n",
    "    \"Here\",\n",
    "    \"with\",\n",
    "    \"even\",\n",
    "    \"corals\",\n",
    "    \"Sea\",\n",
    "    \"otters\",\n",
    "    \"years\",\n",
    "    \"ago\",\n",
    "    \"planet\",\n",
    "    \"make\",\n",
    "    \"thrive\",\n",
    "    \"shallow\",\n",
    "    \"In\",\n",
    "    \"feed\",\n",
    "    \"rays\",\n",
    "    \"land\",\n",
    "    \"oceans\",\n",
    "    \"within\",\n",
    "    \"reach\",\n",
    "    \"prey\",\n",
    "    \"hunting\",\n",
    "    \"her\",\n",
    "    \"easy\",\n",
    "    \"be\"\n",
    "]\n",
    "rules = {\n",
    "    \"origin\": \"#list#|#list#|#list#|#list#|#list#|#list#|#list#|#list#|\",\n",
    "    \"list\": list\n",
    "}\n",
    "grammar = tracery.Grammar(rules)\n",
    "grammar.flatten(\"#origin# #origin# #origin#\")"
   ]
  },
  {
   "cell_type": "code",
   "execution_count": 66,
   "id": "33acf10e",
   "metadata": {
    "scrolled": true
   },
   "outputs": [
    {
     "data": {
      "text/plain": [
       "\"together |new |quest |new |that's |presence |world |things | vr |able |while |want |reality |horizon |space |augmented | now |it's |need |space |while |just |too |vr |\""
      ]
     },
     "execution_count": 66,
     "metadata": {},
     "output_type": "execute_result"
    }
   ],
   "source": [
    "list = [\n",
    "    \"metaverse\",\n",
    "    \"into\",\n",
    "    \"it's \",\n",
    "    \"but \",\n",
    "    \"today \",\n",
    "    \"about \",\n",
    "    \"all \",\n",
    "    \"physical \",\n",
    "    \"have \",\n",
    "    \"new \",\n",
    "    \"you're \",\n",
    "    \"home \",\n",
    "    \"that's \",\n",
    "    \"some \",\n",
    "    \"reality \",\n",
    "    \"make \",\n",
    "    \"lot \",\n",
    "    \"together \",\n",
    "    \"hey \",\n",
    "    \"or \",\n",
    "    \"things \",\n",
    "    \"an \",\n",
    "    \"at \",\n",
    "    \"want \",\n",
    "    \"able \",\n",
    "    \"world \",\n",
    "    \"quest \",\n",
    "    \"we've \",\n",
    "    \"here \",\n",
    "    \"working \",\n",
    "    \"presence \",\n",
    "    \"now \",\n",
    "    \"still \",\n",
    "    \"glasses \",\n",
    "    \"space \",\n",
    "    \"just \",\n",
    "    \"where \",\n",
    "    \"you'll \",\n",
    "    \"when \",\n",
    "    \"them \",\n",
    "    \"experiences \",\n",
    "    \"vr \",\n",
    "    \"while \",\n",
    "    \"next \",\n",
    "    \"product \",\n",
    "    \"time \",\n",
    "    \"what \",\n",
    "    \"build \",\n",
    "    \"apps \",\n",
    "    \"around \",\n",
    "    \"experience \",\n",
    "    \"find \",\n",
    "    \"right \",\n",
    "    \"know \",\n",
    "    \"let's \",\n",
    "    \"need \",\n",
    "    \"one \",\n",
    "    \"get \",\n",
    "    \"like \",\n",
    "    \"augmented \",\n",
    "    \"too \",\n",
    "    \"horizon \",\n",
    "    \"which \",\n",
    "    \"already \",\n",
    "    \"everyone \",\n",
    "    \"seeing \",\n",
    "    \"keep \",\n",
    "    \"making \",\n",
    "    \"game \",\n",
    "    \"mean\",\n",
    "]\n",
    "rules = {\n",
    "    \"origin\": \"#list#|#list#|#list#|#list#|#list#|#list#|#list#|#list#|\",\n",
    "    \"list\": list\n",
    "}\n",
    "grammar = tracery.Grammar(rules)\n",
    "grammar.flatten(\"#origin# #origin# #origin#\")"
   ]
  }
 ],
 "metadata": {
  "kernelspec": {
   "display_name": "Python 3 (ipykernel)",
   "language": "python",
   "name": "python3"
  },
  "language_info": {
   "codemirror_mode": {
    "name": "ipython",
    "version": 3
   },
   "file_extension": ".py",
   "mimetype": "text/x-python",
   "name": "python",
   "nbconvert_exporter": "python",
   "pygments_lexer": "ipython3",
   "version": "3.9.13"
  }
 },
 "nbformat": 4,
 "nbformat_minor": 5
}

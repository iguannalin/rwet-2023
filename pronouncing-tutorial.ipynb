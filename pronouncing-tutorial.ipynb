{
 "cells": [
  {
   "cell_type": "markdown",
   "metadata": {},
   "source": [
    "# Pronouncing Tutorial and Cookbook\n",
    "\n",
    "By [Allison Parrish](http://www.decontextualize.com/)\n",
    "\n",
    "This tutorial will demonstrate how to perform several common tasks with the\n",
    "Pronouncing library and provide a few examples of how the library can be used\n",
    "creatively. It's an updated version of the [tutorial and cookbook from the official documentation](https://pronouncing.readthedocs.io/en/latest/tutorial.html).\n",
    "\n",
    "## Word pronunciations\n",
    "\n",
    "Let's start by using Pronouncing to get the pronunciation for a given word. Here's the code:"
   ]
  },
  {
   "cell_type": "code",
   "execution_count": 2,
   "metadata": {},
   "outputs": [
    {
     "data": {
      "text/plain": [
       "['P ER0 M IH1 T', 'P ER1 M IH2 T']"
      ]
     },
     "execution_count": 2,
     "metadata": {},
     "output_type": "execute_result"
    }
   ],
   "source": [
    "import pronouncing\n",
    "pronouncing.phones_for_word(\"permit\")"
   ]
  },
  {
   "cell_type": "markdown",
   "metadata": {},
   "source": [
    "The `pronouncing.phones_for_word()` function returns a list of all\n",
    "pronunciations for the given word found in the CMU pronouncing dictionary.\n",
    "Pronunciations are given using a special phonetic alphabet known as ARPAbet.\n",
    "[Here's a list of ARPAbet symbols and what English sounds they stand for]\n",
    "(http://www.speech.cs.cmu.edu/cgi-bin/cmudict#phones). Each token in a\n",
    "pronunciation string is called a \"phone.\" The numbers after the vowels indicate\n",
    "the vowel's stress. The number `1` indicates primary stress; `2` indicates\n",
    "secondary stress; and `0` indicates unstressed. ([Wikipedia has a good\n",
    "overview of how stress works in English](https://en.wikipedia.org/wiki/Stress_and_vowel_reduction_in_English),\n",
    "if you're interested.)\n",
    "\n",
    "Sometimes, the pronouncing dictionary has more than one pronunciation for the\n",
    "same word. \"Permit\" is a good example: it can be pronounced either with the\n",
    "stress on the first syllable (\"do you have a permit to program here?\") or\n",
    "on the second syllable (\"will you permit me to program here?\"). For this\n",
    "reason, `pronouncing.phones_for_word()` returns a list of\n",
    "possible pronunciations. (You'll need to come up with your own criteria for\n",
    "deciding which pronunciation is best for your purposes.)\n",
    "\n",
    "Here's how to calculate the most common sounds in a given text:"
   ]
  },
  {
   "cell_type": "code",
   "execution_count": 4,
   "metadata": {},
   "outputs": [
    {
     "data": {
      "text/plain": [
       "[('AH0', 4), ('L', 4), ('R', 3), ('D', 3), ('DH', 2)]"
      ]
     },
     "execution_count": 4,
     "metadata": {},
     "output_type": "execute_result"
    }
   ],
   "source": [
    "from collections import Counter                               \n",
    "text = \"april is the cruelest month breeding lilacs out of the dead\"\n",
    "count = Counter()                                             \n",
    "words = text.split()\n",
    "for word in words:\n",
    "    pronunciation_list = pronouncing.phones_for_word(word)\n",
    "    if len(pronunciation_list) > 0:\n",
    "      count.update(pronunciation_list[0].split(\" \"))\n",
    "\n",
    "count.most_common(5)"
   ]
  },
  {
   "cell_type": "markdown",
   "metadata": {},
   "source": [
    "## Pronunciation search\n",
    "\n",
    "Pronouncing has a helpful function `pronouncing.search()` which allows you\n",
    "to search the pronouncing dictionary for words whose pronunciation matches a\n",
    "particular regular expression. For example, to find words that have within them\n",
    "the same sounds as the word \"sighs\":"
   ]
  },
  {
   "cell_type": "code",
   "execution_count": 8,
   "metadata": {},
   "outputs": [
    {
     "data": {
      "text/plain": [
       "['incise', 'incised', 'incisor', 'incisors', 'malloseismic']"
      ]
     },
     "execution_count": 8,
     "metadata": {},
     "output_type": "execute_result"
    }
   ],
   "source": [
    "phones = pronouncing.phones_for_word(\"sighs\")[0]\n",
    "pronouncing.search(phones)[:5]"
   ]
  },
  {
   "cell_type": "markdown",
   "metadata": {},
   "source": [
    "For convenience, word-boundary anchors (`\\b`) are added automatically to the\n",
    "beginning and end of the pattern you pass to `pronouncing.search()`. You're\n",
    "free to include any other regular expression syntax in the pattern. Here's\n",
    "another example, which finds all of the words that end in \"-iddle\":"
   ]
  },
  {
   "cell_type": "code",
   "execution_count": 9,
   "metadata": {},
   "outputs": [
    {
     "data": {
      "text/plain": [
       "['biddle', 'criddle', 'diddle', 'fiddle', 'friddle']"
      ]
     },
     "execution_count": 9,
     "metadata": {},
     "output_type": "execute_result"
    }
   ],
   "source": [
    "pronouncing.search(\"IH1 D AH0 L$\")[:5]"
   ]
  },
  {
   "cell_type": "markdown",
   "metadata": {},
   "source": [
    "### Rewriting by phone\n",
    "\n",
    "Another example, which re-writes a text by taking each word and replacing it\n",
    "with a random word that begins with the same first two phones:"
   ]
  },
  {
   "cell_type": "code",
   "execution_count": 30,
   "metadata": {},
   "outputs": [
    {
     "name": "stdout",
     "output_type": "stream",
     "text": [
      "apec izzy's them crosley multifoods brunches lifer outlined of themselves devils\n"
     ]
    }
   ],
   "source": [
    "import random\n",
    "text = 'april is the cruelest month breeding lilacs out of the dead'\n",
    "out = list()\n",
    "for word in text.split():\n",
    "    phones = pronouncing.phones_for_word(word)[0]\n",
    "    first2 = phones.split()[:2]\n",
    "    out.append(random.choice(pronouncing.search(\"^\" + \" \".join(first2))))\n",
    "print(' '.join(out))"
   ]
  },
  {
   "cell_type": "markdown",
   "metadata": {},
   "source": [
    "## Counting syllables\n",
    "\n",
    "To get the number of syllables in a word, first get one of its pronunciations\n",
    "with `pronouncing.phones_for_word()` and pass the resulting string of\n",
    "phones to `pronouncing.syllable_count()`, like so:"
   ]
  },
  {
   "cell_type": "code",
   "execution_count": 12,
   "metadata": {},
   "outputs": [
    {
     "data": {
      "text/plain": [
       "3"
      ]
     },
     "execution_count": 12,
     "metadata": {},
     "output_type": "execute_result"
    }
   ],
   "source": [
    "pronunciation_list = pronouncing.phones_for_word(\"programming\")\n",
    "pronouncing.syllable_count(pronunciation_list[0])"
   ]
  },
  {
   "cell_type": "markdown",
   "metadata": {},
   "source": [
    "The following example calculates the total number of syllables in a text\n",
    "(assuming that all of the words are found in the pronouncing dictionary):"
   ]
  },
  {
   "cell_type": "code",
   "execution_count": 15,
   "metadata": {},
   "outputs": [
    {
     "data": {
      "text/plain": [
       "15"
      ]
     },
     "execution_count": 15,
     "metadata": {},
     "output_type": "execute_result"
    }
   ],
   "source": [
    "text = \"april is the cruelest month breeding lilacs out of the dead\"\n",
    "phones = [pronouncing.phones_for_word(p)[0] for p in text.split()]\n",
    "sum([pronouncing.syllable_count(p) for p in phones])"
   ]
  },
  {
   "cell_type": "markdown",
   "metadata": {},
   "source": [
    "## Meter\n",
    "\n",
    "Pronouncing includes a number of functions to help you isolate metrical\n",
    "characteristics of a text. You can use `pronouncing.stresses()`\n",
    "to get a string that represents the \"stress pattern\" of a string of\n",
    "phones:"
   ]
  },
  {
   "cell_type": "code",
   "execution_count": 16,
   "metadata": {},
   "outputs": [
    {
     "data": {
      "text/plain": [
       "'102'"
      ]
     },
     "execution_count": 16,
     "metadata": {},
     "output_type": "execute_result"
    }
   ],
   "source": [
    "phones_list = pronouncing.phones_for_word(\"snappiest\")\n",
    "pronouncing.stresses(phones_list[0])"
   ]
  },
  {
   "cell_type": "markdown",
   "metadata": {},
   "source": [
    "A \"stress pattern\" is a string that contains only the stress values from a\n",
    "sequence of phones. (The numbers indicate the level of stress: ``1`` for\n",
    "primary stress, ``2`` for secondary stress, and ``0`` for unstressed.)\n",
    "\n",
    "You can use `pronouncing.search_stresses()` to find words based on their\n",
    "stress patterns. For example, to find words that have two iambs in them\n",
    "(\"iamb\" is a metrical foot consisting of one unstressed syllable followed by\n",
    "a stressed syllable):"
   ]
  },
  {
   "cell_type": "code",
   "execution_count": 26,
   "metadata": {},
   "outputs": [
    {
     "data": {
      "text/plain": [
       "['champaign-urbana',\n",
       " 'chlorofluorocarbons',\n",
       " 'coagulation',\n",
       " 'computer-generated',\n",
       " 'eosinophilia',\n",
       " 'eosinophilic',\n",
       " 'evacuation',\n",
       " 'evacuations',\n",
       " 'exclamation-point',\n",
       " 'garrido-luna',\n",
       " 'intergenerational',\n",
       " 'japanimation',\n",
       " 'kamehameha',\n",
       " \"kamehameha's\",\n",
       " 'laryngoscopic',\n",
       " 'laryngoscopic',\n",
       " 'laryngoscopical',\n",
       " 'laryngoscopical',\n",
       " 'laryngoscopicaly',\n",
       " 'laryngoscopicaly',\n",
       " 'miscalculation',\n",
       " 'miscalculations',\n",
       " 'moholy-nagy',\n",
       " 'momigliano',\n",
       " 'overwhelmability',\n",
       " 'regeneration',\n",
       " 'revaluation',\n",
       " 'ring-around-the-rosy',\n",
       " 'rio-de-janeiro',\n",
       " 'yabbadabbadoo',\n",
       " 'ylang-ylang']"
      ]
     },
     "execution_count": 26,
     "metadata": {},
     "output_type": "execute_result"
    }
   ],
   "source": [
    "pronouncing.search_stresses(\"0101\")"
   ]
  },
  {
   "cell_type": "markdown",
   "metadata": {},
   "source": [
    "If you sound out a few of the words above, you'll notice that (like `pronouncing.search()`), this function does *not* anchor regular expressions by default. The list above includes all words that *contain* two iambs, not all words that consist *only* of two iambs. To find the latter, add the `^` and `$` regular expression anchors to the beginning and end of the search string:"
   ]
  },
  {
   "cell_type": "code",
   "execution_count": 31,
   "metadata": {},
   "outputs": [
    {
     "data": {
      "text/plain": [
       "['ylang-ylang']"
      ]
     },
     "execution_count": 31,
     "metadata": {},
     "output_type": "execute_result"
    }
   ],
   "source": [
    "pronouncing.search_stresses(\"^0101$\")"
   ]
  },
  {
   "cell_type": "markdown",
   "metadata": {},
   "source": [
    "You can use regular expression syntax inside of the patterns you give to\n",
    "`pronouncing.search_stresses()`. For example, because the CMU Pronouncing Dictionary's transcriptions are not especially systematic when it comes to assigning primary and secondary stress, it's often useful to search for syllables that have either of the two assigned. Repeating the above search for words consisting of two consecutive iambs, but looking for both primary and secondary stress returns many more results (so many that I just show the first handful of results):"
   ]
  },
  {
   "cell_type": "code",
   "execution_count": 33,
   "metadata": {},
   "outputs": [
    {
     "data": {
      "text/plain": [
       "['abbreviate',\n",
       " 'abbreviates',\n",
       " 'abdulaziz',\n",
       " 'abilities',\n",
       " 'ability',\n",
       " 'accelerate',\n",
       " 'accelerates',\n",
       " 'accentuates',\n",
       " 'accessorize',\n",
       " 'accessorized',\n",
       " 'accommodate',\n",
       " 'accommodates']"
      ]
     },
     "execution_count": 33,
     "metadata": {},
     "output_type": "execute_result"
    }
   ],
   "source": [
    "pronouncing.search_stresses(\"^0[12]0[12]$\")[:12]"
   ]
  },
  {
   "cell_type": "markdown",
   "metadata": {},
   "source": [
    "Another quick example: find all words wholly consisting of two anapests (unstressed, unstressed, stressed), with \"stressed\" meaning either primary stress or secondary stress:"
   ]
  },
  {
   "cell_type": "code",
   "execution_count": 27,
   "metadata": {},
   "outputs": [
    {
     "data": {
      "text/plain": [
       "['neopositivist', 'undercapitalize', 'undercapitalized']"
      ]
     },
     "execution_count": 27,
     "metadata": {},
     "output_type": "execute_result"
    }
   ],
   "source": [
    "pronouncing.search_stresses(\"^00[12]00[12]$\")"
   ]
  },
  {
   "cell_type": "markdown",
   "metadata": {},
   "source": [
    "### Rewriting by stress\n",
    "\n",
    "The following example rewrites a text, replacing each word with a random word\n",
    "that has the same stress pattern::"
   ]
  },
  {
   "cell_type": "code",
   "execution_count": 35,
   "metadata": {},
   "outputs": [
    {
     "data": {
      "text/plain": [
       "\"clubbing thune hye pilots' strolled bolduc equine last's maxed who've flo\""
      ]
     },
     "execution_count": 35,
     "metadata": {},
     "output_type": "execute_result"
    }
   ],
   "source": [
    "out = []\n",
    "text = 'april is the cruelest month breeding lilacs out of the dead'\n",
    "for word in text.split():\n",
    "    pronunciations = pronouncing.phones_for_word(word)\n",
    "    pat = pronouncing.stresses(pronunciations[0])\n",
    "    replacement = random.choice(pronouncing.search_stresses(\"^\"+pat+\"$\"))\n",
    "    out.append(replacement)\n",
    "' '.join(out)"
   ]
  },
  {
   "cell_type": "markdown",
   "metadata": {},
   "source": [
    "## Rhyme\n",
    "\n",
    "Pronouncing includes a simple function, `pronouncing.rhymes()`, which\n",
    "returns a list of words that (potentially) rhyme with a given word. You can use\n",
    "it like so:"
   ]
  },
  {
   "cell_type": "code",
   "execution_count": 37,
   "metadata": {},
   "outputs": [
    {
     "data": {
      "text/plain": [
       "['mailings', 'railings', 'tailings']"
      ]
     },
     "execution_count": 37,
     "metadata": {},
     "output_type": "execute_result"
    }
   ],
   "source": [
    "pronouncing.rhymes(\"failings\")"
   ]
  },
  {
   "cell_type": "markdown",
   "metadata": {},
   "source": [
    "The `pronouncing.rhymes()` function returns a list of all possible rhymes\n",
    "for the given word---i.e., words that rhyme with any of the given word's\n",
    "pronunciations. If you only want rhymes for one particular pronunciation, the\n",
    "the `pronouncing.rhyming_part()` function gives a smaller part of a string\n",
    "of phones that can be used with `pronouncing.search()` to find rhyming\n",
    "words. The following code demonstrates how to find rhyming words for two\n",
    "different pronunciations of \"uses\":"
   ]
  },
  {
   "cell_type": "code",
   "execution_count": 38,
   "metadata": {},
   "outputs": [
    {
     "name": "stdout",
     "output_type": "stream",
     "text": [
      "[\"bruce's\", 'juices', 'medusas', 'produces', 'reduces']\n",
      "['abuses', 'cabooses', 'disabuses', 'excuses', \"goose's\"]\n"
     ]
    }
   ],
   "source": [
    "pronunciations = pronouncing.phones_for_word(\"uses\")\n",
    "sss = pronouncing.rhyming_part(pronunciations[0])\n",
    "zzz = pronouncing.rhyming_part(pronunciations[1])\n",
    "print(pronouncing.search(sss + \"$\")[:5])\n",
    "print(pronouncing.search(zzz + \"$\")[:5])"
   ]
  },
  {
   "cell_type": "markdown",
   "metadata": {},
   "source": [
    "Use the ``in`` operator to check to see if one word rhymes with another::"
   ]
  },
  {
   "cell_type": "code",
   "execution_count": 39,
   "metadata": {},
   "outputs": [
    {
     "data": {
      "text/plain": [
       "True"
      ]
     },
     "execution_count": 39,
     "metadata": {},
     "output_type": "execute_result"
    }
   ],
   "source": [
    "\"wheeze\" in pronouncing.rhymes(\"cheese\")"
   ]
  },
  {
   "cell_type": "code",
   "execution_count": 40,
   "metadata": {},
   "outputs": [
    {
     "data": {
      "text/plain": [
       "False"
      ]
     },
     "execution_count": 40,
     "metadata": {},
     "output_type": "execute_result"
    }
   ],
   "source": [
    "\"geese\" in pronouncing.rhymes(\"cheese\")"
   ]
  },
  {
   "cell_type": "markdown",
   "metadata": {},
   "source": [
    "### Rewriting with rhymes\n",
    "\n",
    "The following example rewrites a text, replacing each word with a rhyming\n",
    "word (when a rhyming word is available):"
   ]
  },
  {
   "cell_type": "code",
   "execution_count": 42,
   "metadata": {},
   "outputs": [
    {
     "name": "stdout",
     "output_type": "stream",
     "text": [
      "april chandeliers the coolest month reading counterattacks gout above the red\n"
     ]
    }
   ],
   "source": [
    "text = 'april is the cruelest month breeding lilacs out of the dead'\n",
    "out = list()\n",
    "for word in text.split():\n",
    "    rhymes = pronouncing.rhymes(word)\n",
    "    if len(rhymes) > 0:\n",
    "        out.append(random.choice(rhymes))\n",
    "    else:\n",
    "        out.append(word)\n",
    "print(' '.join(out))"
   ]
  },
  {
   "cell_type": "markdown",
   "metadata": {},
   "source": [
    "## Next steps\n",
    "\n",
    "Hopefully this is just the beginning of your rhyme- and meter-filled journey.\n",
    "Consult [the pronouncing documentation](https://pronouncing.readthedocs.io/en/latest/) for more information about individual functions in the library.\n",
    "\n",
    "Pronouncing is just one possible interface for the CMU pronouncing dictionary,\n",
    "and you may find that for your particular purposes, a more specialized\n",
    "approach is necessary. In that case, feel free to [peruse Pronouncing's source\n",
    "code](http://github.com/aparrish/pronouncingpy) for helpful hints and tidbits."
   ]
  }
 ],
 "metadata": {
  "kernelspec": {
   "display_name": "Python 3 (ipykernel)",
   "language": "python",
   "name": "python3"
  },
  "language_info": {
   "codemirror_mode": {
    "name": "ipython",
    "version": 3
   },
   "file_extension": ".py",
   "mimetype": "text/x-python",
   "name": "python",
   "nbconvert_exporter": "python",
   "pygments_lexer": "ipython3",
   "version": "3.9.13"
  }
 },
 "nbformat": 4,
 "nbformat_minor": 4
}
